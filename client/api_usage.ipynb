{
 "cells": [
  {
   "cell_type": "markdown",
   "metadata": {},
   "source": [
    "# Introduction to MMAPIS Project\n",
    "\n",
    "Welcome to our comprehensive guide on using the MMAPIS project. MMAPIS, a multi-modal automated academic paper interpretation system, is designed to help you quickly understand the key points of a target article. It provides a solution to address the critical needs of the scientific community in our rapidly evolving digital landscape.\n",
    "\n",
    "This Jupyter notebook offers a step-by-step tutorial on leveraging the capabilities of MMAPIS and the designed APIs to extract and interpret key information from academic papers. We will cover the following topics:\n",
    "\n",
    "- Preprocessing\n",
    "- 2-stage Summarization\n",
    "- Downstream Applications\n",
    "\n",
    "## Prerequisites\n",
    "\n",
    "Before diving in, ensure you have the following prerequisites:\n",
    "\n",
    "1. Follow the [Readme/# 🚀How to Run](../Readme.md) instructions to install the required packages and set up the environment.\n",
    "2. Configure your environment in the [config](../config) directory.\n",
    "\n",
    "## Objectives\n",
    "\n",
    "In this module, we aim to:\n",
    "\n",
    "1. Introduce the MMAPIS project.\n",
    "2. Demonstrate how to use MMAPIS APIs for extracting and interpreting key information from academic papers.\n",
    "3. Start up your server:\n",
    "\n",
    "   - If running locally, follow:\n",
    "     ```bash\n",
    "     cd path/to/MMAPIS\n",
    "     uvicorn backend:app --reload --port <your port>\n",
    "     ```\n",
    "     Example:\n",
    "     ```\n",
    "     uvicorn backend:app --reload --port 8000\n",
    "     ```\n",
    "\n",
    "   - If running on a server:\n",
    "     ```\n",
    "     uvicorn backend:app --host 0.0.0.0 --port <your port> --reload\n",
    "     ```\n",
    "     Example:\n",
    "     ```\n",
    "     uvicorn backend:app --host 0.0.0.0 --port 5010 --reload\n",
    "     ```\n",
    "\n",
    "After successfully starting your backend, you can find detailed parameters for any designed API in the FastAPI Interactive API docs at http://127.0.0.1:8000/docs (if running locally and your port is 8000)."
   ]
  },
  {
   "cell_type": "markdown",
   "metadata": {},
   "source": [
    "## Preprocessing"
   ]
  },
  {
   "cell_type": "markdown",
   "metadata": {},
   "source": [
    "### initialize the library"
   ]
  },
  {
   "cell_type": "code",
   "execution_count": 1,
   "metadata": {},
   "outputs": [
    {
     "name": "stderr",
     "output_type": "stream",
     "text": [
      "INFO:root:Best GPU: 0. Batch size: 0\n",
      "WARNING:root:GPU VRAM is too small. Computing on CPU.\n",
      "INFO:root:Loading logging file from d:\\git\\MMAPIS\\config\\logging.ini\n"
     ]
    },
    {
     "data": {
      "text/plain": [
       "'d:\\\\git\\\\MMAPIS'"
      ]
     },
     "execution_count": 1,
     "metadata": {},
     "output_type": "execute_result"
    }
   ],
   "source": [
    "import requests\n",
    "import sys\n",
    "import os\n",
    "# make sure we can import MMAPIS Module\n",
    "sys.path.append(os.path.abspath(\"../../\"))\n",
    "from MMAPIS.tools import extract_zip_from_bytes,download_pdf,get_pdf_name\n",
    "from MMAPIS.config.config import GENERAL_CONFIG, OPENAI_CONFIG, ARXIV_CONFIG, NOUGAT_CONFIG,INTEGRATE_PROMPTS,SECTION_PROMPTS,ALIGNMENT_CONFIG,LOGGER_MODES,TTS_CONFIG, APPLICATION_PROMPTS,TTS_CONFIG\n",
    "# if you run locally and your port is set to 8000\n",
    "# if your back end is running on a different port, url should http://<your ip>:<your port>\n",
    "url = \"http://127.0.0.1:8000\"\n",
    "\n",
    "MMAPIS_Dir = os.path.abspath(\"../\")\n",
    "MMAPIS_Dir"
   ]
  },
  {
   "cell_type": "markdown",
   "metadata": {},
   "source": [
    "### Crawl from Arxiv\n",
    "\n",
    "You can search for your target articles of interest using parameters similar to those on [arxiv](https://arxiv.org/search/?query=&searchtype=all&abstracts=show&order=-announced_date_first&size=50).\n",
    "\n",
    "If your request body is invalid, you will receive a reminder like the following:\n",
    "```json\n",
    "{\n",
    "    'status': 'request error',\n",
    "    'message': 'input params error: error 1:type: bool_parsing, location: request body, param return_md input:5, msg: Input should be a valid boolean, unable to interpret input'\n",
    "}\n",
    "```\n",
    "In the following example code, we based on [Attention Is All You Need](https://arxiv.org/pdf/1706.03762.pdf), which introduces the transformer model."
   ]
  },
  {
   "cell_type": "code",
   "execution_count": 2,
   "metadata": {},
   "outputs": [
    {
     "data": {
      "text/plain": [
       "{'status': 'success',\n",
       " 'message': [{'pdf_url': 'https://arxiv.org/pdf/1706.03762',\n",
       "   'title': 'Attention Is All You Need',\n",
       "   'author': 'Authors:\\nAshish Vaswani, \\n      \\n      Noam Shazeer, \\n      \\n      Niki Parmar, \\n      \\n      Jakob Uszkoreit, \\n      \\n      Llion Jones, \\n      \\n      Aidan N. Gomez, \\n      \\n      Lukasz Kaiser, \\n      \\n      Illia Polosukhin',\n",
       "   'abstract': 'Abstract:\\n      \\n        …are based on complex recurrent or convolutional neural networks in an encoder-decoder configuration. The best performing models also connect the encoder and decoder through an attention mechanism. We propose a new simple network architecture, the Transformer, based solely on attention mechanisms, dispensing with recurr…\\n        '},\n",
       "  {'pdf_url': 'https://arxiv.org/pdf/1905.13497',\n",
       "   'title': 'Attention Is (not) All You Need for Commonsense Reasoning',\n",
       "   'author': 'Authors:\\nTassilo Klein, \\n      \\n      Moin Nabi',\n",
       "   'abstract': 'Abstract:\\n      \\n        …strong performance on several language understanding benchmarks. In this paper, we describe a simple re-implementation of BERT for commonsense reasoning. We show that the attentions produced by BERT can be directly utilized for tasks such as the Pronoun Disambiguation Problem and Winograd Schema Challenge. Our proposed…\\n        '},\n",
       "  {'pdf_url': 'https://arxiv.org/pdf/1906.02792',\n",
       "   'title': 'Attention is all you need for Videos: Self-attention based Video Summarization using Universal Transformers',\n",
       "   'author': 'Authors:\\nManjot Bilkhu, \\n      \\n      Siyang Wang, \\n      \\n      Tushar Dobhal',\n",
       "   'abstract': 'Abstract:\\n      \\n        …of Gated Recurrent Units (GRUs). Existing architectures extract spatio-temporal features using CNNs and utilize either GRUs or LSTMs to model dependencies with soft attention layers. These attention layers do help in attending to the most prominent features and improve upon the recurrent units, however, these models su…\\n        '},\n",
       "  {'pdf_url': 'https://arxiv.org/pdf/1910.14537',\n",
       "   'title': 'Attention Is All You Need for Chinese Word Segmentation',\n",
       "   'author': 'Authors:\\nSufeng Duan, \\n      \\n      Hai Zhao',\n",
       "   'abstract': 'Abstract:\\n      \\n        …focuses on further strengthening the model itself for Chinese word segmentation (CWS), which results in an even more fast and more accurate CWS model. Our model consists of an attention only stacked encoder and a light enough decoder for the greedy segmentation plus two highway connections for smoother training, in which the encoder is composed of a newly pr…\\n        '},\n",
       "  {'pdf_url': 'https://arxiv.org/pdf/1911.02150',\n",
       "   'title': 'Fast Transformer Decoding: One Write-Head is All You Need',\n",
       "   'author': 'Authors:\\nNoam Shazeer',\n",
       "   'abstract': 'Abstract:\\n      \\n        Multi-head attention layers, as used in the Transformer neural sequence model, are a powerful alternative to RNNs for moving information across and between sequences. While training these layers is generally fast and simple, due to parallelizability across the length of the sequence, incremental inference (where such paralleization is impossible) is often sl…\\n        '}]}"
      ]
     },
     "execution_count": 2,
     "metadata": {},
     "output_type": "execute_result"
    }
   ],
   "source": [
    "import requests\n",
    "arxiv_url = url + \"/get_links/\"\n",
    "params = {\n",
    "    \"key_word\":\"attention is all you need\",\n",
    "     \"max_return\":5,\n",
    "     \"return_md\":False,\n",
    "     \"order\":\"announced_date_first\"\n",
    "}\n",
    "\n",
    "arxiv_response = requests.post(arxiv_url,json=params)\n",
    "eval(arxiv_response.text)\n"
   ]
  },
  {
   "cell_type": "markdown",
   "metadata": {},
   "source": [
    "Download the pdf for subsequent processing"
   ]
  },
  {
   "cell_type": "code",
   "execution_count": 3,
   "metadata": {},
   "outputs": [],
   "source": [
    "\n",
    "pdf_ls = eval(arxiv_response.text)[\"message\"]\n",
    "transformer_url = pdf_ls[0][\"pdf_url\"]\n",
    "flag, pdf_path = download_pdf(transformer_url,save_dir=os.path.join(MMAPIS_Dir,\"res\"))"
   ]
  },
  {
   "cell_type": "code",
   "execution_count": 4,
   "metadata": {},
   "outputs": [
    {
     "data": {
      "text/plain": [
       "WindowsPath('d:/git/MMAPIS/res/1706_03762/1706_03762.pdf')"
      ]
     },
     "execution_count": 4,
     "metadata": {},
     "output_type": "execute_result"
    }
   ],
   "source": [
    "transformer_pdf_path = pdf_path\n",
    "transformer_pdf_path"
   ]
  },
  {
   "cell_type": "markdown",
   "metadata": {},
   "source": [
    "### nougat\n",
    "\n",
    "Nougat facilitates the conversion of a PDF file to its corresponding Markdown file. Due to the inherent limitations of HTTP, file uploads involve sending the body payload encoded as \"form data.\" In a path operation, you can declare multiple File and Form parameters. However, you cannot simultaneously declare Body fields that are expected to be received as JSON. This is because the request body will be encoded using multipart/form-data instead of application/json.\n",
    "\n",
    "This limitation is documented in a warning, and you can find more details here:  https://fastapi.tiangolo.com/tutorial/request-forms-and-files/#define-file-and-form-parameters.\n",
    "\n",
    "You can either simply provide the PDF URL or pass the byte data of the PDF."
   ]
  },
  {
   "cell_type": "code",
   "execution_count": 5,
   "metadata": {},
   "outputs": [
    {
     "data": {
      "text/plain": [
       "<Response [200]>"
      ]
     },
     "execution_count": 5,
     "metadata": {},
     "output_type": "execute_result"
    }
   ],
   "source": [
    "import json\n",
    "# you can only use pdf_url to process the pdf\n",
    "nougat_url = url + \"/pdf2md/\"\n",
    "params = {\n",
    "    'pdf':transformer_url,\n",
    "    \"markdown\":True\n",
    "}\n",
    "nougat_response = requests.post(nougat_url,data=params)\n",
    "nougat_response"
   ]
  },
  {
   "cell_type": "code",
   "execution_count": 6,
   "metadata": {},
   "outputs": [
    {
     "data": {
      "text/plain": [
       "{'status': 'success',\n",
       " 'message': {'article_ls': [{'file_name': '1706_03762',\n",
       "    'text': '# Attention Is All You Need\\n\\n Ashish Vaswani\\n\\nGoogle Brain\\n\\navaswani@google.com\\n\\n&Noam Shazeer1\\n\\nGoogle Brain\\n\\nnoam@google.com\\n\\n&Niki Parmar1\\n\\nGoogle Research\\n\\nnikip@google.com\\n\\n&Jakob Uszkoreit1\\n\\nGoogle Research\\n\\nusz@google.com\\n\\n&Llion Jones1\\n\\nGoogle Research\\n\\nllion@google.com\\n\\n&Aidan N. Gomez1\\n\\nUniversity of Toronto\\n\\naidan@cs.toronto.edu\\n\\n&Lukasz Kaiser1\\n\\nGoogle Brain\\n\\nlukaszkaiser@google.com\\n\\n&Illia Polosukhin1\\n\\nillia.polosukhin@gmail.com\\n\\nEqual contribution. Listing order is random. Jakob proposed replacing RNNs with self-attention and started the effort to evaluate this idea. Ashish, with Illia, designed and implemented the first Transformer models and has been crucially involved in every aspect of this work. Noam proposed scaled dot-product attention, multi-head attention and the parameter-free position representation and became the other person involved in nearly every detail. Niki designed, implemented, tuned and evaluated countless model variants in our original codebase and tensor2tensor. Llion also experimented with novel model variants, was responsible for our initial codebase, and efficient inference and visualizations. Lukasz and Aidan spent countless long days designing various parts of and implementing tensor2tensor, replacing our earlier codebase, greatly improving results and massively accelerating our research.Work performed while at Google Brain.Work performed while at Google Research.Work performed while at Google Research.\\n\\nFootnote 1: footnotemark:\\n\\nFootnote 2: footnotemark:\\n\\n###### Abstract\\n\\nThe dominant sequence transduction models are based on complex recurrent or convolutional neural networks that include an encoder and a decoder. The best performing models also connect the encoder and decoder through an attention mechanism. We propose a new simple network architecture, the Transformer, based solely on attention mechanisms, dispensing with recurrence and convolutions entirely. Experiments on two machine translation tasks show these models to be superior in quality while being more parallelizable and requiring significantly less time to train. Our model achieves 28.4 BLEU on the WMT 2014 English-to-German translation task, improving over the existing best results, including ensembles, by over 2 BLEU. On the WMT 2014 English-to-French translation task, our model establishes a new single-model state-of-the-art BLEU score of 41.8 after training for 3.5 days on eight GPUs, a small fraction of the training costs of the best models from the literature. We show that the Transformer generalizes well to other tasks by applying it successfully to English constituency parsing both with large and limited training data.\\n\\nIntroduction\\n\\nRecurrent neural networks, long short-term memory [13] and gated recurrent [7] neural networks in particular, have been firmly established as state of the art approaches in sequence modeling and transduction problems such as language modeling and machine translation [35; 2; 5]. Numerous efforts have since continued to push the boundaries of recurrent language models and encoder-decoder architectures [38; 24; 15].\\n\\nRecurrent models typically factor computation along the symbol positions of the input and output sequences. Aligning the positions to steps in computation time, they generate a sequence of hidden states $h_{t}$, as a function of the previous hidden state $h_{t-1}$ and the input for position $t$. This inherently sequential nature precludes parallelization within training examples, which becomes critical at longer sequence lengths, as memory constraints limit batching across examples. Recent work has achieved significant improvements in computational efficiency through factorization tricks [21] and conditional computation [32], while also improving model performance in case of the latter. The fundamental constraint of sequential computation, however, remains.\\n\\nAttention mechanisms have become an integral part of compelling sequence modeling and transduction models in various tasks, allowing modeling of dependencies without regard to their distance in the input or output sequences [2; 19]. In all but a few cases [27], however, such attention mechanisms are used in conjunction with a recurrent network.\\n\\nIn this work we propose the Transformer, a model architecture eschewing recurrence and instead relying entirely on an attention mechanism to draw global dependencies between input and output. The Transformer allows for significantly more parallelization and can reach a new state of the art in translation quality after being trained for as little as twelve hours on eight P100 GPUs.\\n\\n## 2 Background\\n\\nThe goal of reducing sequential computation also forms the foundation of the Extended Neural GPU [16], ByteNet [18] and ConvS2S [9], all of which use convolutional neural networks as basic building block, computing hidden representations in parallel for all input and output positions. In these models, the number of operations required to relate signals from two arbitrary input or output positions grows in the distance between positions, linearly for ConvS2S and logarithmically for ByteNet. This makes it more difficult to learn dependencies between distant positions [12]. In the Transformer this is reduced to a constant number of operations, albeit at the cost of reduced effective resolution due to averaging attention-weighted positions, an effect we counteract with Multi-Head Attention as described in section 3.2.\\n\\nSelf-attention, sometimes called intra-attention is an attention mechanism relating different positions of a single sequence in order to compute a representation of the sequence. Self-attention has been used successfully in a variety of tasks including reading comprehension, abstractive summarization, textual entailment and learning task-independent sentence representations [4; 27; 28; 22].\\n\\nEnd-to-end memory networks are based on a recurrent attention mechanism instead of sequence-aligned recurrence and have been shown to perform well on simple-language question answering and language modeling tasks [34].\\n\\nTo the best of our knowledge, however, the Transformer is the first transduction model relying entirely on self-attention to compute representations of its input and output without using sequence-aligned RNNs or convolution. In the following sections, we will describe the Transformer, motivate self-attention and discuss its advantages over models such as [17; 18] and [9].\\n\\n## 3 Model Architecture\\n\\nMost competitive neural sequence transduction models have an encoder-decoder structure [5; 2; 35]. Here, the encoder maps an input sequence of symbol representations $(x_{1},...,x_{n})$ to a sequence of continuous representations $\\\\mathbf{z}=(z_{1},...,z_{n})$. Given $\\\\mathbf{z}$, the decoder then generates an output sequence $(y_{1},...,y_{m})$ of symbols one element at a time. At each step the model is auto-regressive [10], consuming the previously generated symbols as additional input when generating the next.\\n\\nconnected layers for both the encoder and decoder, shown in the left and right halves of Figure 1, respectively.\\n\\n### Encoder and Decoder Stacks\\n\\nEncoder:The encoder is composed of a stack of $N=6$ identical layers. Each layer has two sub-layers. The first is a multi-head self-attention mechanism, and the second is a simple, position-wise fully connected feed-forward network. We employ a residual connection [11] around each of the two sub-layers, followed by layer normalization [1]. That is, the output of each sub-layer is $\\\\mathrm{LayerNorm}(x+\\\\mathrm{Sublayer}(x))$, where $\\\\mathrm{Sublayer}(x)$ is the function implemented by the sub-layer itself. To facilitate these residual connections, all sub-layers in the model, as well as the embedding layers, produce outputs of dimension $d_{\\\\text{model}}=512$.\\n\\nDecoder:The decoder is also composed of a stack of $N=6$ identical layers. In addition to the two sub-layers in each encoder layer, the decoder inserts a third sub-layer, which performs multi-head attention over the output of the encoder stack. Similar to the encoder, we employ residual connections around each of the sub-layers, followed by layer normalization. We also modify the self-attention sub-layer in the decoder stack to prevent positions from attending to subsequent positions. This masking, combined with fact that the output embeddings are offset by one position, ensures that the predictions for position $i$ can depend only on the known outputs at positions less than $i$.\\n\\n### Attention\\n\\nAn attention function can be described as mapping a query and a set of key-value pairs to an output, where the query, keys, values, and output are all vectors. The output is computed as a weighted sum\\n\\nFigure 1: The Transformer - model architecture.\\n\\nof the values, where the weight assigned to each value is computed by a compatibility function of the query with the corresponding key.\\n\\n#### 3.2.1 Scaled Dot-Product Attention\\n\\nWe call our particular attention \"Scaled Dot-Product Attention\" (Figure 2). The input consists of queries and keys of dimension $d_{k}$, and values of dimension $d_{v}$. We compute the dot products of the query with all keys, divide each by $\\\\sqrt{d_{k}}$, and apply a softmax function to obtain the weights on the values.\\n\\nIn practice, we compute the attention function on a set of queries simultaneously, packed together into a matrix $Q$. The keys and values are also packed together into matrices $K$ and $V$. We compute the matrix of outputs as:\\n\\n$$\\\\mathrm{Attention}(Q,K,V)=\\\\mathrm{softmax}(\\\\frac{QK^{T}}{\\\\sqrt{d_{k}}})V \\\\tag{1}$$\\n\\nThe two most commonly used attention functions are additive attention [2], and dot-product (multiplicative) attention. Dot-product attention is identical to our algorithm, except for the scaling factor of $\\\\frac{1}{\\\\sqrt{d_{k}}}$. Additive attention computes the compatibility function using a feed-forward network with a single hidden layer. While the two are similar in theoretical complexity, dot-product attention is much faster and more space-efficient in practice, since it can be implemented using highly optimized matrix multiplication code.\\n\\nWhile for small values of $d_{k}$ the two mechanisms perform similarly, additive attention outperforms dot product attention without scaling for larger values of $d_{k}$[3]. We suspect that for large values of $d_{k}$, the dot products grow large in magnitude, pushing the softmax function into regions where it has extremely small gradients 4. To counteract this effect, we scale the dot products by $\\\\frac{1}{\\\\sqrt{d_{k}}}$.\\n\\nFootnote 4: To illustrate why the dot products get large, assume that the components of $q$ and $k$ are independent random variables with mean $0$ and variance $1$. Then their dot product, $q\\\\cdot k=\\\\sum_{i=1}^{d_{k}}q_{i}k_{i}$, has mean $0$ and variance $d_{k}$.\\n\\n#### 3.2.2 Multi-Head Attention\\n\\nInstead of performing a single attention function with $d_{\\\\text{model}}$-dimensional keys, values and queries, we found it beneficial to linearly project the queries, keys and values $h$ times with different, learned linear projections to $d_{k}$, $d_{k}$ and $d_{v}$ dimensions, respectively. On each of these projected versions of queries, keys and values we then perform the attention function in parallel, yielding $d_{v}$-dimensional\\n\\nFigure 2: (left) Scaled Dot-Product Attention. (right) Multi-Head Attention consists of several attention layers running in parallel.\\n\\noutput values. These are concatenated and once again projected, resulting in the final values, as depicted in Figure 2.\\n\\nMulti-head attention allows the model to jointly attend to information from different representation subspaces at different positions. With a single attention head, averaging inhibits this.\\n\\n$$\\\\mathrm{MultiHead}(Q,K,V) =\\\\mathrm{Concat}(\\\\mathrm{head}_{1},...,\\\\mathrm{head}_{\\\\mathrm{h}}) W^{O}$$ $$\\\\text{where }\\\\mathrm{head}_{\\\\mathrm{i}} =\\\\mathrm{Attention}(QW_{i}^{Q},KW_{i}^{K},VW_{i}^{V})$$\\n\\nWhere the projections are parameter matrices $W_{i}^{Q}\\\\in\\\\mathbb{R}^{d_{\\\\text{model}}\\\\times d_{k}}$, $W_{i}^{K}\\\\in\\\\mathbb{R}^{d_{\\\\text{model}}\\\\times d_{k}}$, $W_{i}^{V}\\\\in\\\\mathbb{R}^{d_{\\\\text{model}}\\\\times d_{v}}$ and $W^{O}\\\\in\\\\mathbb{R}^{hd_{v}\\\\times d_{\\\\text{model}}}$.\\n\\nIn this work we employ $h=8$ parallel attention layers, or heads. For each of these we use $d_{k}=d_{v}=d_{\\\\text{model}}/h=64$. Due to the reduced dimension of each head, the total computational cost is similar to that of single-head attention with full dimensionality.\\n\\n#### 3.2.3 Applications of Attention in our Model\\n\\nThe Transformer uses multi-head attention in three different ways:\\n\\n* In \"encoder-decoder attention\" layers, the queries come from the previous decoder layer, and the memory keys and values come from the output of the encoder. This allows every position in the decoder to attend over all positions in the input sequence. This mimics the typical encoder-decoder attention mechanisms in sequence-to-sequence models such as [38; 2; 9].\\n* The encoder contains self-attention layers. In a self-attention layer all of the keys, values and queries come from the same place, in this case, the output of the previous layer in the encoder. Each position in the encoder can attend to all positions in the previous layer of the encoder.\\n* Similarly, self-attention layers in the decoder allow each position in the decoder to attend to all positions in the decoder up to and including that position. We need to prevent leftward information flow in the decoder to preserve the auto-regressive property. We implement this inside of scaled dot-product attention by masking out (setting to $-\\\\infty$) all values in the input of the softmax which correspond to illegal connections. See Figure 2.\\n\\n### Position-wise Feed-Forward Networks\\n\\nIn addition to attention sub-layers, each of the layers in our encoder and decoder contains a fully connected feed-forward network, which is applied to each position separately and identically. This consists of two linear transformations with a ReLU activation in between.\\n\\n$$\\\\mathrm{FFN}(x)=\\\\max(0,xW_{1}+b_{1})W_{2}+b_{2} \\\\tag{2}$$\\n\\nWhile the linear transformations are the same across different positions, they use different parameters from layer to layer. Another way of describing this is as two convolutions with kernel size 1. The dimensionality of input and output is $d_{\\\\text{model}}=512$, and the inner-layer has dimensionality $d_{ff}=2048$.\\n\\n### Embeddings and Softmax\\n\\nSimilarly to other sequence transduction models, we use learned embeddings to convert the input tokens and output tokens to vectors of dimension $d_{\\\\text{model}}$. We also use the usual learned linear transformation and softmax function to convert the decoder output to predicted next-token probabilities. In our model, we share the same weight matrix between the two embedding layers and the pre-softmax linear transformation, similar to [30]. In the embedding layers, we multiply those weights by $\\\\sqrt{d_{\\\\text{model}}}$\\n\\n### Positional Encoding\\n\\nSince our model contains no recurrence and no convolution, in order for the model to make use of the order of the sequence, we must inject some information about the relative or absolute position of the tokens in the sequence. To this end, we add \"positional encodings\" to the input embeddings at the bottoms of the encoder and decoder stacks. The positional encodings have the same dimension $d_{\\\\text{model}}$ as the embeddings, so that the two can be summed. There are many choices of positional encodings, learned and fixed [9].\\n\\nIn this work, we use sine and cosine functions of different frequencies:\\n\\n$$PE_{(pos,2i)} =sin(pos/10000^{2i/d_{\\\\text{model}}})$$ $$PE_{(pos,2i+1)} =cos(pos/10000^{2i/d_{\\\\text{model}}})$$\\n\\nwhere $pos$ is the position and $i$ is the dimension. That is, each dimension of the positional encoding corresponds to a sinusoid. The wavelengths form a geometric progression from $2\\\\pi$ to $10000\\\\cdot 2\\\\pi$. We chose this function because we hypothesized it would allow the model to easily learn to attend by relative positions, since for any fixed offset $k$, $PE_{pos+k}$ can be represented as a linear function of $PE_{pos}$.\\n\\nWe also experimented with using learned positional embeddings [9] instead, and found that the two versions produced nearly identical results (see Table 3 row (E)). We chose the sinusoidal version because it may allow the model to extrapolate to sequence lengths longer than the ones encountered during training.\\n\\n## 4 Why Self-Attention\\n\\nIn this section we compare various aspects of self-attention layers to the recurrent and convolutional layers commonly used for mapping one variable-length sequence of symbol representations $(x_{1},...,x_{n})$ to another sequence of equal length $(z_{1},...,z_{n})$, with $x_{i},z_{i}\\\\in\\\\mathbb{R}^{d}$, such as a hidden layer in a typical sequence transduction encoder or decoder. Motivating our use of self-attention we consider three desiderata.\\n\\nOne is the total computational complexity per layer. Another is the amount of computation that can be parallelized, as measured by the minimum number of sequential operations required.\\n\\nThe third is the path length between long-range dependencies in the network. Learning long-range dependencies is a key challenge in many sequence transduction tasks. One key factor affecting the ability to learn such dependencies is the length of the paths forward and backward signals have to traverse in the network. The shorter these paths between any combination of positions in the input and output sequences, the easier it is to learn long-range dependencies [12]. Hence we also compare the maximum path length between any two input and output positions in networks composed of the different layer types.\\n\\nAs noted in Table 1, a self-attention layer connects all positions with a constant number of sequentially executed operations, whereas a recurrent layer requires $O(n)$ sequential operations. In terms of computational complexity, self-attention layers are faster than recurrent layers when the sequence\\n\\n\\\\begin{table}\\n\\\\begin{tabular}{l c c c} \\\\hline \\\\hline Layer Type & Complexity per Layer & Sequential Operations & Maximum Path Length \\\\\\\\ \\\\hline Self-Attention & $O(n^{2}\\\\cdot d)$ & $O(1)$ & $O(1)$ \\\\\\\\ Recurrent & $O(n\\\\cdot d^{2})$ & $O(n)$ & $O(n)$ \\\\\\\\ Convolutional & $O(k\\\\cdot n\\\\cdot d^{2})$ & $O(1)$ & $O(log_{k}(n))$ \\\\\\\\ Self-Attention (restricted) & $O(r\\\\cdot n\\\\cdot d)$ & $O(1)$ & $O(n/r)$ \\\\\\\\ \\\\hline \\\\hline \\\\end{tabular}\\n\\\\end{table}\\nTable 1: Maximum path lengths, per-layer complexity and minimum number of sequential operations for different layer types. $n$ is the sequence length, $d$ is the representation dimension, $k$ is the kernel size of convolutions and $r$ the size of the neighborhood in restricted self-attention.\\n\\nlength $n$ is smaller than the representation dimensionality $d$, which is most often the case with sentence representations used by state-of-the-art models in machine translations, such as word-piece [38] and byte-pair [31] representations. To improve computational performance for tasks involving very long sequences, self-attention could be restricted to considering only a neighborhood of size $r$ in the input sequence centered around the respective output position. This would increase the maximum path length to $O(n/r)$. We plan to investigate this approach further in future work.\\n\\nA single convolutional layer with kernel width $k<n$ does not connect all pairs of input and output positions. Doing so requires a stack of $O(n/k)$ convolutional layers in the case of contiguous kernels, or $O(log_{k}(n))$ in the case of dilated convolutions [18], increasing the length of the longest paths between any two positions in the network. Convolutional layers are generally more expensive than recurrent layers, by a factor of $k$. Separable convolutions [6], however, decrease the complexity considerably, to $O(k\\\\cdot n\\\\cdot d+n\\\\cdot d^{2})$. Even with $k=n$, however, the complexity of a separable convolution is equal to the combination of a self-attention layer and a point-wise feed-forward layer, the approach we take in our model.\\n\\nAs side benefit, self-attention could yield more interpretable models. We inspect attention distributions from our models and present and discuss examples in the appendix. Not only do individual attention heads clearly learn to perform different tasks, many appear to exhibit behavior related to the syntactic and semantic structure of the sentences.\\n\\n## 5 Training\\n\\nThis section describes the training regime for our models.\\n\\n### Training Data and Batching\\n\\nWe trained on the standard WMT 2014 English-German dataset consisting of about 4.5 million sentence pairs. Sentences were encoded using byte-pair encoding [3], which has a shared source-target vocabulary of about 37000 tokens. For English-French, we used the significantly larger WMT 2014 English-French dataset consisting of 36M sentences and split tokens into a 32000 word-piece vocabulary [38]. Sentence pairs were batched together by approximate sequence length. Each training batch contained a set of sentence pairs containing approximately 25000 source tokens and 25000 target tokens.\\n\\n### Hardware and Schedule\\n\\nWe trained our models on one machine with 8 NVIDIA P100 GPUs. For our base models using the hyperparameters described throughout the paper, each training step took about 0.4 seconds. We trained the base models for a total of 100,000 steps or 12 hours. For our big models,(described on the bottom line of table 3), step time was 1.0 seconds. The big models were trained for 300,000 steps (3.5 days).\\n\\n### Optimizer\\n\\nWe used the Adam optimizer [20] with $\\\\beta_{1}=0.9$, $\\\\beta_{2}=0.98$ and $\\\\epsilon=10^{-9}$. We varied the learning rate over the course of training, according to the formula:\\n\\n$$\\\\small\\\\mathit{lrate}=d_{\\\\text{model}}^{-0.5}\\\\cdot\\\\min(\\\\mathit{step\\\\_num}^{-0.5 },\\\\mathit{step\\\\_num}\\\\cdot warmup\\\\_steps^{-1.5}) \\\\tag{3}$$\\n\\nThis corresponds to increasing the learning rate linearly for the first $warmup\\\\_steps$ training steps, and decreasing it thereafter proportionally to the inverse square root of the step number. We used $warmup\\\\_steps=4000$.\\n\\n### Regularization\\n\\nWe employ three types of regularization during training:Residual DropoutWe apply dropout [33] to the output of each sub-layer, before it is added to the sub-layer input and normalized. In addition, we apply dropout to the sums of the embeddings and the positional encodings in both the encoder and decoder stacks. For the base model, we use a rate of $P_{drop}=0.1$.\\n\\nLabel SmoothingDuring training, we employed label smoothing of value $\\\\epsilon_{ls}=0.1$[36]. This hurts perplexity, as the model learns to be more unsure, but improves accuracy and BLEU score.\\n\\n## 6 Results\\n\\n### Machine Translation\\n\\nOn the WMT 2014 English-to-German translation task, the big transformer model (Transformer (big) in Table 2) outperforms the best previously reported models (including ensembles) by more than $2.0$ BLEU, establishing a new state-of-the-art BLEU score of $28.4$. The configuration of this model is listed in the bottom line of Table 3. Training took $3.5$ days on $8$ P100 GPUs. Even our base model surpasses all previously published models and ensembles, at a fraction of the training cost of any of the competitive models.\\n\\nOn the WMT 2014 English-to-French translation task, our big model achieves a BLEU score of $41.0$, outperforming all of the previously published single models, at less than $1/4$ the training cost of the previous state-of-the-art model. The Transformer (big) model trained for English-to-French used dropout rate $P_{drop}=0.1$, instead of $0.3$.\\n\\nFor the base models, we used a single model obtained by averaging the last 5 checkpoints, which were written at 10-minute intervals. For the big models, we averaged the last 20 checkpoints. We used beam search with a beam size of $4$ and length penalty $\\\\alpha=0.6$[38]. These hyperparameters were chosen after experimentation on the development set. We set the maximum output length during inference to input length $+50$, but terminate early when possible [38].\\n\\nTable 2 summarizes our results and compares our translation quality and training costs to other model architectures from the literature. We estimate the number of floating point operations used to train a model by multiplying the training time, the number of GPUs used, and an estimate of the sustained single-precision floating-point capacity of each GPU 5.\\n\\nFootnote 5: We used values of 2.8, 3.7, 6.0 and 9.5 TFLOPS for K80, K40, M40 and P100, respectively.\\n\\n### Model Variations\\n\\nTo evaluate the importance of different components of the Transformer, we varied our base model in different ways, measuring the change in performance on English-to-German translation on the\\n\\n\\\\begin{table}\\n\\\\begin{tabular}{l c c c c} \\\\hline \\\\hline \\\\multirow{2}{*}{Model} & \\\\multicolumn{2}{c}{BLEU} & \\\\multicolumn{2}{c}{Training Cost (FLOPs)} \\\\\\\\ \\\\cline{2-5}  & EN-DE & EN-FR & EN-DE & EN-FR \\\\\\\\ \\\\hline ByteNet [18] & 23.75 & & & \\\\\\\\ Deep-Att + PosUnk [39] & & 39.2 & & $1.0\\\\cdot 10^{20}$ \\\\\\\\ GNMT + RL [38] & 24.6 & 39.92 & $2.3\\\\cdot 10^{19}$ & $1.4\\\\cdot 10^{20}$ \\\\\\\\ ConvS2S [9] & 25.16 & 40.46 & $9.6\\\\cdot 10^{18}$ & $1.5\\\\cdot 10^{20}$ \\\\\\\\ MoE [32] & 26.03 & 40.56 & $2.0\\\\cdot 10^{19}$ & $1.2\\\\cdot 10^{20}$ \\\\\\\\ \\\\hline Deep-Att + PosUnk Ensemble [39] & & 40.4 & & $8.0\\\\cdot 10^{20}$ \\\\\\\\ GNMT + RL Ensemble [38] & 26.30 & 41.16 & $1.8\\\\cdot 10^{20}$ & $1.1\\\\cdot 10^{21}$ \\\\\\\\ ConvS2S Ensemble [9] & 26.36 & **41.29** & $7.7\\\\cdot 10^{19}$ & $1.2\\\\cdot 10^{21}$ \\\\\\\\ \\\\hline Transformer (base model) & 27.3 & 38.1 & & $\\\\mathbf{3.3\\\\cdot 10^{18}}$ \\\\\\\\ Transformer (big) & **28.4** & **41.8** & & $2.3\\\\cdot 10^{19}$ \\\\\\\\ \\\\hline \\\\hline \\\\end{tabular}\\n\\\\end{table}\\nTable 2: The Transformer achieves better BLEU scores than previous state-of-the-art models on the English-to-German and English-to-French newstest2014 tests at a fraction of the training cost.\\n\\n[MISSING_PAGE_FAIL:9]\\n\\nincreased the maximum output length to input length + $300$. We used a beam size of $21$ and $\\\\alpha=0.3$ for both WSJ only and the semi-supervised setting.\\n\\nOur results in Table 4 show that despite the lack of task-specific tuning our model performs surprisingly well, yielding better results than all previously reported models with the exception of the Recurrent Neural Network Grammar [8].\\n\\nIn contrast to RNN sequence-to-sequence models [37], the Transformer outperforms the Berkeley-Parser [29] even when training only on the WSJ training set of 40K sentences.\\n\\n## 7 Conclusion\\n\\nIn this work, we presented the Transformer, the first sequence transduction model based entirely on attention, replacing the recurrent layers most commonly used in encoder-decoder architectures with multi-headed self-attention.\\n\\nFor translation tasks, the Transformer can be trained significantly faster than architectures based on recurrent or convolutional layers. On both WMT 2014 English-to-German and WMT 2014 English-to-French translation tasks, we achieve a new state of the art. In the former task our best model outperforms even all previously reported ensembles.\\n\\nWe are excited about the future of attention-based models and plan to apply them to other tasks. We plan to extend the Transformer to problems involving input and output modalities other than text and to investigate local, restricted attention mechanisms to efficiently handle large inputs and outputs such as images, audio and video. Making generation less sequential is another research goals of ours.\\n\\nThe code we used to train and evaluate our models is available at [https://github.com/tensorflow/tensor2tensor](https://github.com/tensorflow/tensor2tensor).\\n\\nAcknowledgementsWe are grateful to Nal Kalchbrenner and Stephan Gouws for their fruitful comments, corrections and inspiration.\\n\\n## References\\n\\n* [1] Jimmy Lei Ba, Jamie Ryan Kiros, and Geoffrey E Hinton. Layer normalization. _arXiv preprint arXiv:1607.06450_, 2016.\\n* [2] Dzmitry Bahdanau, Kyunghyun Cho, and Yoshua Bengio. Neural machine translation by jointly learning to align and translate. _CoRR_, abs/1409.0473, 2014.\\n* [3] Denny Britz, Anna Goldie, Minh-Thang Luong, and Quoc V. Le. Massive exploration of neural machine translation architectures. _CoRR_, abs/1703.03906, 2017.\\n* [4] Jianpeng Cheng, Li Dong, and Mirella Lapata. Long short-term memory-networks for machine reading. _arXiv preprint arXiv:1601.06733_, 2016.\\n\\n\\\\begin{table}\\n\\\\begin{tabular}{c|c|c} \\\\hline\\n**Parser** & **Training** & **WSJ 23 F1** \\\\\\\\ \\\\hline Vinyals \\\\& Kaiser al. (2014) [37] & WSJ only, discriminative & 88.3 \\\\\\\\ Petrov et al. (2006) [29] & WSJ only, discriminative & 90.4 \\\\\\\\ Zhu et al. (2013) [40] & WSJ only, discriminative & 90.4 \\\\\\\\ Dyer et al. (2016) [8] & WSJ only, discriminative & 91.7 \\\\\\\\ \\\\hline Transformer (4 layers) & WSJ only, discriminative & 91.3 \\\\\\\\ \\\\hline Zhu et al. (2013) [40] & semi-supervised & 91.3 \\\\\\\\ Huang \\\\& Harper (2009) [14] & semi-supervised & 91.3 \\\\\\\\ McClosky et al. (2006) [26] & semi-supervised & 92.1 \\\\\\\\ Vinyals \\\\& Kaiser el al. (2014) [37] & semi-supervised & 92.1 \\\\\\\\ \\\\hline Transformer (4 layers) & semi-supervised & 92.7 \\\\\\\\ \\\\hline Luong et al. (2015) [23] & multi-task & 93.0 \\\\\\\\ Dyer et al. (2016) [8] & generative & 93.3 \\\\\\\\ \\\\hline \\\\end{tabular}\\n\\\\end{table}\\nTable 4: The Transformer generalizes well to English constituency parsing (Results are on Section 23 of WSJ)* [5] Kyunghyun Cho, Bart van Merrienboer, Caglar Gulcehre, Fethi Bougares, Holger Schwenk, and Yoshua Bengio. Learning phrase representations using rnn encoder-decoder for statistical machine translation. _CoRR_, abs/1406.1078, 2014.\\n* [6] Francois Chollet. Xception: Deep learning with depthwise separable convolutions. _arXiv preprint arXiv:1610.02357_, 2016.\\n* [7] Junyoung Chung, Caglar Gulcehre, Kyunghyun Cho, and Yoshua Bengio. Empirical evaluation of gated recurrent neural networks on sequence modeling. _CoRR_, abs/1412.3555, 2014.\\n* [8] Chris Dyer, Adhiguna Kuncoro, Miguel Ballesteros, and Noah A. Smith. Recurrent neural network grammars. In _Proc. of NAACL_, 2016.\\n* [9] Jonas Gehring, Michael Auli, David Grangier, Denis Yarats, and Yann N. Dauphin. Convolutional sequence to sequence learning. _arXiv preprint arXiv:1705.03122v2_, 2017.\\n* [10] Alex Graves. Generating sequences with recurrent neural networks. _arXiv preprint arXiv:1308.0850_, 2013.\\n* [11] Kaiming He, Xiangyu Zhang, Shaoqing Ren, and Jian Sun. Deep residual learning for image recognition. In _Proceedings of the IEEE Conference on Computer Vision and Pattern Recognition_, pages 770-778, 2016.\\n* [12] Sepp Hochreiter, Yoshua Bengio, Paolo Frasconi, and Jurgen Schmidhuber. Gradient flow in recurrent nets: the difficulty of learning long-term dependencies, 2001.\\n* [13] Sepp Hochreiter and Jurgen Schmidhuber. Long short-term memory. _Neural computation_, 9(8):1735-1780, 1997.\\n* [14] Zhongqiang Huang and Mary Harper. Self-training PCFG grammars with latent annotations across languages. In _Proceedings of the 2009 Conference on Empirical Methods in Natural Language Processing_, pages 832-841. ACL, August 2009.\\n* [15] Rafal Jozefowicz, Oriol Vinyals, Mike Schuster, Noam Shazeer, and Yonghui Wu. Exploring the limits of language modeling. _arXiv preprint arXiv:1602.02410_, 2016.\\n* [16] Lukasz Kaiser and Samy Bengio. Can active memory replace attention? In _Advances in Neural Information Processing Systems, (NIPS)_, 2016.\\n* [17] Lukasz Kaiser and Ilya Sutskever. Neural GPUs learn algorithms. In _International Conference on Learning Representations (ICLR)_, 2016.\\n* [18] Nal Kalchbrenner, Lasse Espeholt, Karen Simonyan, Aaron van den Oord, Alex Graves, and Koray Kavukcuoglu. Neural machine translation in linear time. _arXiv preprint arXiv:1610.10099v2_, 2017.\\n* [19] Yoon Kim, Carl Denton, Luong Hoang, and Alexander M. Rush. Structured attention networks. In _International Conference on Learning Representations_, 2017.\\n* [20] Diederik Kingma and Jimmy Ba. Adam: A method for stochastic optimization. In _ICLR_, 2015.\\n* [21] Oleksii Kuchaiev and Boris Ginsburg. Factorization tricks for LSTM networks. _arXiv preprint arXiv:1703.10722_, 2017.\\n* [22] Zhouhan Lin, Minwei Feng, Cicero Nogueira dos Santos, Mo Yu, Bing Xiang, Bowen Zhou, and Yoshua Bengio. A structured self-attentive sentence embedding. _arXiv preprint arXiv:1703.03130_, 2017.\\n* [23] Minh-Thang Luong, Quoc V. Le, Ilya Sutskever, Oriol Vinyals, and Lukasz Kaiser. Multi-task sequence to sequence learning. _arXiv preprint arXiv:1511.06114_, 2015.\\n* [24] Minh-Thang Luong, Hieu Pham, and Christopher D Manning. Effective approaches to attention-based neural machine translation. _arXiv preprint arXiv:1508.04025_, 2015.\\n\\n* [25] Mitchell P Marcus, Mary Ann Marcinkiewicz, and Beatrice Santorini. Building a large annotated corpus of english: The penn treebank. _Computational linguistics_, 19(2):313-330, 1993.\\n* [26] David McClosky, Eugene Charniak, and Mark Johnson. Effective self-training for parsing. In _Proceedings of the Human Language Technology Conference of the NAACL, Main Conference_, pages 152-159. ACL, June 2006.\\n* [27] Ankur Parikh, Oscar Tackstrom, Dipanjan Das, and Jakob Uszkoreit. A decomposable attention model. In _Empirical Methods in Natural Language Processing_, 2016.\\n* [28] Romain Paulus, Caiming Xiong, and Richard Socher. A deep reinforced model for abstractive summarization. _arXiv preprint arXiv:1705.04304_, 2017.\\n* [29] Slav Petrov, Leon Barrett, Romain Thibaux, and Dan Klein. Learning accurate, compact, and interpretable tree annotation. In _Proceedings of the 21st International Conference on Computational Linguistics and 44th Annual Meeting of the ACL_, pages 433-440. ACL, July 2006.\\n* [30] Ofir Press and Lior Wolf. Using the output embedding to improve language models. _arXiv preprint arXiv:1608.05859_, 2016.\\n* [31] Rico Sennrich, Barry Haddow, and Alexandra Birch. Neural machine translation of rare words with subword units. _arXiv preprint arXiv:1508.07909_, 2015.\\n* [32] Noam Shazeer, Azalia Mirhoseini, Krzysztof Maziarz, Andy Davis, Quoc Le, Geoffrey Hinton, and Jeff Dean. Outrageously large neural networks: The sparsely-gated mixture-of-experts layer. _arXiv preprint arXiv:1701.06538_, 2017.\\n* [33] Nitish Srivastava, Geoffrey E Hinton, Alex Krizhevsky, Ilya Sutskever, and Ruslan Salakhutdinov. Dropout: a simple way to prevent neural networks from overfitting. _Journal of Machine Learning Research_, 15(1):1929-1958, 2014.\\n* [34] Sainbayar Sukhbaatar, Arthur Szlam, Jason Weston, and Rob Fergus. End-to-end memory networks. In C. Cortes, N. D. Lawrence, D. D. Lee, M. Sugiyama, and R. Garnett, editors, _Advances in Neural Information Processing Systems 28_, pages 2440-2448. Curran Associates, Inc., 2015.\\n* [35] Ilya Sutskever, Oriol Vinyals, and Quoc VV Le. Sequence to sequence learning with neural networks. In _Advances in Neural Information Processing Systems_, pages 3104-3112, 2014.\\n* [36] Christian Szegedy, Vincent Vanhoucke, Sergey Ioffe, Jonathon Shlens, and Zbigniew Wojna. Rethinking the inception architecture for computer vision. _CoRR_, abs/1512.00567, 2015.\\n* [37] Vinyals & Kaiser, Koo, Petrov, Sutskever, and Hinton. Grammar as a foreign language. In _Advances in Neural Information Processing Systems_, 2015.\\n* [38] Yonghui Wu, Mike Schuster, Zhifeng Chen, Quoc V Le, Mohammad Norouzi, Wolfgang Macherey, Maxim Krikun, Yuan Cao, Qin Gao, Klaus Macherey, et al. Google\\'s neural machine translation system: Bridging the gap between human and machine translation. _arXiv preprint arXiv:1609.08144_, 2016.\\n* [39] Jie Zhou, Ying Cao, Xuguang Wang, Peng Li, and Wei Xu. Deep recurrent models with fast-forward connections for neural machine translation. _CoRR_, abs/1606.04199, 2016.\\n* [40] Muhua Zhu, Yue Zhang, Wenliang Chen, Min Zhang, and Jingbo Zhu. Fast and accurate shift-reduce constituent parsing. In _Proceedings of the 51st Annual Meeting of the ACL (Volume 1: Long Papers)_, pages 434-443. ACL, August 2013.\\n\\n## Attention Visualizations\\n\\nFigure 3: An example of the attention mechanism following long-distance dependencies in the encoder self-attention in layer 5 of 6. Many of the attention heads attend to a distant dependency of the verb ‘making’, completing the phrase ‘making...more difficult’. Attentions here shown only for the word ‘making’. Different colors represent different heads. Best viewed in color.\\n\\nFigure 4: Two attention heads, also in layer 5 of 6, apparently involved in anaphora resolution. Top: Full attentions for head 5. Bottom: Isolated attentions from just the word ‘its’ for attention heads 5 and 6. Note that the attentions are very sharp for this word.\\n\\nFigure 5: Many of the attention heads exhibit behaviour that seems related to the structure of the sentence. We give two such examples above, from two different heads from the encoder self-attention at layer 5 of 6. The heads clearly learned to perform different tasks.'}]}}"
      ]
     },
     "execution_count": 6,
     "metadata": {},
     "output_type": "execute_result"
    }
   ],
   "source": [
    "eval(nougat_response.text)"
   ]
  },
  {
   "cell_type": "code",
   "execution_count": 7,
   "metadata": {},
   "outputs": [
    {
     "data": {
      "text/plain": [
       "<Response [200]>"
      ]
     },
     "execution_count": 7,
     "metadata": {},
     "output_type": "execute_result"
    }
   ],
   "source": [
    "# Alternatively, you can pass the PDF content (if multiple files are needed, you can append other PDF paths in the pdf_path) as bytes.\n",
    "nougat_url = url + \"/pdf2md/\"\n",
    "pdf_path = [transformer_pdf_path]\n",
    "files = []\n",
    "for i in pdf_path:\n",
    "    with open(i,\"rb\") as f:\n",
    "        files.append((\"pdf_content\",open(i,\"rb\")))\n",
    "\n",
    "params = {\n",
    "    \"markdown\":True\n",
    "}\n",
    "nougat_response = requests.post(nougat_url,files=files,data=params)\n",
    "nougat_response"
   ]
  },
  {
   "cell_type": "code",
   "execution_count": 8,
   "metadata": {},
   "outputs": [
    {
     "data": {
      "text/plain": [
       "[{'file_name': '1706_03762',\n",
       "  'text': '# Attention Is All You Need\\n\\n Ashish Vaswani\\n\\nGoogle Brain\\n\\navaswani@google.com\\n\\n&Noam Shazeer1\\n\\nGoogle Brain\\n\\nnoam@google.com\\n\\n&Niki Parmar1\\n\\nGoogle Research\\n\\nnikip@google.com\\n\\n&Jakob Uszkoreit1\\n\\nGoogle Research\\n\\nusz@google.com\\n\\n&Llion Jones1\\n\\nGoogle Research\\n\\nllion@google.com\\n\\n&Aidan N. Gomez1\\n\\nUniversity of Toronto\\n\\naidan@cs.toronto.edu\\n\\n&Lukasz Kaiser1\\n\\nGoogle Brain\\n\\nlukaszkaiser@google.com\\n\\n&Illia Polosukhin1\\n\\nillia.polosukhin@gmail.com\\n\\nEqual contribution. Listing order is random. Jakob proposed replacing RNNs with self-attention and started the effort to evaluate this idea. Ashish, with Illia, designed and implemented the first Transformer models and has been crucially involved in every aspect of this work. Noam proposed scaled dot-product attention, multi-head attention and the parameter-free position representation and became the other person involved in nearly every detail. Niki designed, implemented, tuned and evaluated countless model variants in our original codebase and tensor2tensor. Llion also experimented with novel model variants, was responsible for our initial codebase, and efficient inference and visualizations. Lukasz and Aidan spent countless long days designing various parts of and implementing tensor2tensor, replacing our earlier codebase, greatly improving results and massively accelerating our research.Work performed while at Google Brain.Work performed while at Google Research.Work performed while at Google Research.\\n\\nFootnote 1: footnotemark:\\n\\nFootnote 2: footnotemark:\\n\\n###### Abstract\\n\\nThe dominant sequence transduction models are based on complex recurrent or convolutional neural networks that include an encoder and a decoder. The best performing models also connect the encoder and decoder through an attention mechanism. We propose a new simple network architecture, the Transformer, based solely on attention mechanisms, dispensing with recurrence and convolutions entirely. Experiments on two machine translation tasks show these models to be superior in quality while being more parallelizable and requiring significantly less time to train. Our model achieves 28.4 BLEU on the WMT 2014 English-to-German translation task, improving over the existing best results, including ensembles, by over 2 BLEU. On the WMT 2014 English-to-French translation task, our model establishes a new single-model state-of-the-art BLEU score of 41.8 after training for 3.5 days on eight GPUs, a small fraction of the training costs of the best models from the literature. We show that the Transformer generalizes well to other tasks by applying it successfully to English constituency parsing both with large and limited training data.\\n\\nIntroduction\\n\\nRecurrent neural networks, long short-term memory [13] and gated recurrent [7] neural networks in particular, have been firmly established as state of the art approaches in sequence modeling and transduction problems such as language modeling and machine translation [35; 2; 5]. Numerous efforts have since continued to push the boundaries of recurrent language models and encoder-decoder architectures [38; 24; 15].\\n\\nRecurrent models typically factor computation along the symbol positions of the input and output sequences. Aligning the positions to steps in computation time, they generate a sequence of hidden states $h_{t}$, as a function of the previous hidden state $h_{t-1}$ and the input for position $t$. This inherently sequential nature precludes parallelization within training examples, which becomes critical at longer sequence lengths, as memory constraints limit batching across examples. Recent work has achieved significant improvements in computational efficiency through factorization tricks [21] and conditional computation [32], while also improving model performance in case of the latter. The fundamental constraint of sequential computation, however, remains.\\n\\nAttention mechanisms have become an integral part of compelling sequence modeling and transduction models in various tasks, allowing modeling of dependencies without regard to their distance in the input or output sequences [2; 19]. In all but a few cases [27], however, such attention mechanisms are used in conjunction with a recurrent network.\\n\\nIn this work we propose the Transformer, a model architecture eschewing recurrence and instead relying entirely on an attention mechanism to draw global dependencies between input and output. The Transformer allows for significantly more parallelization and can reach a new state of the art in translation quality after being trained for as little as twelve hours on eight P100 GPUs.\\n\\n## 2 Background\\n\\nThe goal of reducing sequential computation also forms the foundation of the Extended Neural GPU [16], ByteNet [18] and ConvS2S [9], all of which use convolutional neural networks as basic building block, computing hidden representations in parallel for all input and output positions. In these models, the number of operations required to relate signals from two arbitrary input or output positions grows in the distance between positions, linearly for ConvS2S and logarithmically for ByteNet. This makes it more difficult to learn dependencies between distant positions [12]. In the Transformer this is reduced to a constant number of operations, albeit at the cost of reduced effective resolution due to averaging attention-weighted positions, an effect we counteract with Multi-Head Attention as described in section 3.2.\\n\\nSelf-attention, sometimes called intra-attention is an attention mechanism relating different positions of a single sequence in order to compute a representation of the sequence. Self-attention has been used successfully in a variety of tasks including reading comprehension, abstractive summarization, textual entailment and learning task-independent sentence representations [4; 27; 28; 22].\\n\\nEnd-to-end memory networks are based on a recurrent attention mechanism instead of sequence-aligned recurrence and have been shown to perform well on simple-language question answering and language modeling tasks [34].\\n\\nTo the best of our knowledge, however, the Transformer is the first transduction model relying entirely on self-attention to compute representations of its input and output without using sequence-aligned RNNs or convolution. In the following sections, we will describe the Transformer, motivate self-attention and discuss its advantages over models such as [17; 18] and [9].\\n\\n## 3 Model Architecture\\n\\nMost competitive neural sequence transduction models have an encoder-decoder structure [5; 2; 35]. Here, the encoder maps an input sequence of symbol representations $(x_{1},...,x_{n})$ to a sequence of continuous representations $\\\\mathbf{z}=(z_{1},...,z_{n})$. Given $\\\\mathbf{z}$, the decoder then generates an output sequence $(y_{1},...,y_{m})$ of symbols one element at a time. At each step the model is auto-regressive [10], consuming the previously generated symbols as additional input when generating the next.\\n\\nconnected layers for both the encoder and decoder, shown in the left and right halves of Figure 1, respectively.\\n\\n### Encoder and Decoder Stacks\\n\\nEncoder:The encoder is composed of a stack of $N=6$ identical layers. Each layer has two sub-layers. The first is a multi-head self-attention mechanism, and the second is a simple, position-wise fully connected feed-forward network. We employ a residual connection [11] around each of the two sub-layers, followed by layer normalization [1]. That is, the output of each sub-layer is $\\\\mathrm{LayerNorm}(x+\\\\mathrm{Sublayer}(x))$, where $\\\\mathrm{Sublayer}(x)$ is the function implemented by the sub-layer itself. To facilitate these residual connections, all sub-layers in the model, as well as the embedding layers, produce outputs of dimension $d_{\\\\text{model}}=512$.\\n\\nDecoder:The decoder is also composed of a stack of $N=6$ identical layers. In addition to the two sub-layers in each encoder layer, the decoder inserts a third sub-layer, which performs multi-head attention over the output of the encoder stack. Similar to the encoder, we employ residual connections around each of the sub-layers, followed by layer normalization. We also modify the self-attention sub-layer in the decoder stack to prevent positions from attending to subsequent positions. This masking, combined with fact that the output embeddings are offset by one position, ensures that the predictions for position $i$ can depend only on the known outputs at positions less than $i$.\\n\\n### Attention\\n\\nAn attention function can be described as mapping a query and a set of key-value pairs to an output, where the query, keys, values, and output are all vectors. The output is computed as a weighted sum\\n\\nFigure 1: The Transformer - model architecture.\\n\\nof the values, where the weight assigned to each value is computed by a compatibility function of the query with the corresponding key.\\n\\n#### 3.2.1 Scaled Dot-Product Attention\\n\\nWe call our particular attention \"Scaled Dot-Product Attention\" (Figure 2). The input consists of queries and keys of dimension $d_{k}$, and values of dimension $d_{v}$. We compute the dot products of the query with all keys, divide each by $\\\\sqrt{d_{k}}$, and apply a softmax function to obtain the weights on the values.\\n\\nIn practice, we compute the attention function on a set of queries simultaneously, packed together into a matrix $Q$. The keys and values are also packed together into matrices $K$ and $V$. We compute the matrix of outputs as:\\n\\n$$\\\\mathrm{Attention}(Q,K,V)=\\\\mathrm{softmax}(\\\\frac{QK^{T}}{\\\\sqrt{d_{k}}})V \\\\tag{1}$$\\n\\nThe two most commonly used attention functions are additive attention [2], and dot-product (multiplicative) attention. Dot-product attention is identical to our algorithm, except for the scaling factor of $\\\\frac{1}{\\\\sqrt{d_{k}}}$. Additive attention computes the compatibility function using a feed-forward network with a single hidden layer. While the two are similar in theoretical complexity, dot-product attention is much faster and more space-efficient in practice, since it can be implemented using highly optimized matrix multiplication code.\\n\\nWhile for small values of $d_{k}$ the two mechanisms perform similarly, additive attention outperforms dot product attention without scaling for larger values of $d_{k}$[3]. We suspect that for large values of $d_{k}$, the dot products grow large in magnitude, pushing the softmax function into regions where it has extremely small gradients 4. To counteract this effect, we scale the dot products by $\\\\frac{1}{\\\\sqrt{d_{k}}}$.\\n\\nFootnote 4: To illustrate why the dot products get large, assume that the components of $q$ and $k$ are independent random variables with mean $0$ and variance $1$. Then their dot product, $q\\\\cdot k=\\\\sum_{i=1}^{d_{k}}q_{i}k_{i}$, has mean $0$ and variance $d_{k}$.\\n\\n#### 3.2.2 Multi-Head Attention\\n\\nInstead of performing a single attention function with $d_{\\\\text{model}}$-dimensional keys, values and queries, we found it beneficial to linearly project the queries, keys and values $h$ times with different, learned linear projections to $d_{k}$, $d_{k}$ and $d_{v}$ dimensions, respectively. On each of these projected versions of queries, keys and values we then perform the attention function in parallel, yielding $d_{v}$-dimensional\\n\\nFigure 2: (left) Scaled Dot-Product Attention. (right) Multi-Head Attention consists of several attention layers running in parallel.\\n\\noutput values. These are concatenated and once again projected, resulting in the final values, as depicted in Figure 2.\\n\\nMulti-head attention allows the model to jointly attend to information from different representation subspaces at different positions. With a single attention head, averaging inhibits this.\\n\\n$$\\\\mathrm{MultiHead}(Q,K,V) =\\\\mathrm{Concat}(\\\\mathrm{head}_{1},...,\\\\mathrm{head}_{\\\\mathrm{h}}) W^{O}$$ $$\\\\text{where }\\\\mathrm{head}_{\\\\mathrm{i}} =\\\\mathrm{Attention}(QW_{i}^{Q},KW_{i}^{K},VW_{i}^{V})$$\\n\\nWhere the projections are parameter matrices $W_{i}^{Q}\\\\in\\\\mathbb{R}^{d_{\\\\text{model}}\\\\times d_{k}}$, $W_{i}^{K}\\\\in\\\\mathbb{R}^{d_{\\\\text{model}}\\\\times d_{k}}$, $W_{i}^{V}\\\\in\\\\mathbb{R}^{d_{\\\\text{model}}\\\\times d_{v}}$ and $W^{O}\\\\in\\\\mathbb{R}^{hd_{v}\\\\times d_{\\\\text{model}}}$.\\n\\nIn this work we employ $h=8$ parallel attention layers, or heads. For each of these we use $d_{k}=d_{v}=d_{\\\\text{model}}/h=64$. Due to the reduced dimension of each head, the total computational cost is similar to that of single-head attention with full dimensionality.\\n\\n#### 3.2.3 Applications of Attention in our Model\\n\\nThe Transformer uses multi-head attention in three different ways:\\n\\n* In \"encoder-decoder attention\" layers, the queries come from the previous decoder layer, and the memory keys and values come from the output of the encoder. This allows every position in the decoder to attend over all positions in the input sequence. This mimics the typical encoder-decoder attention mechanisms in sequence-to-sequence models such as [38; 2; 9].\\n* The encoder contains self-attention layers. In a self-attention layer all of the keys, values and queries come from the same place, in this case, the output of the previous layer in the encoder. Each position in the encoder can attend to all positions in the previous layer of the encoder.\\n* Similarly, self-attention layers in the decoder allow each position in the decoder to attend to all positions in the decoder up to and including that position. We need to prevent leftward information flow in the decoder to preserve the auto-regressive property. We implement this inside of scaled dot-product attention by masking out (setting to $-\\\\infty$) all values in the input of the softmax which correspond to illegal connections. See Figure 2.\\n\\n### Position-wise Feed-Forward Networks\\n\\nIn addition to attention sub-layers, each of the layers in our encoder and decoder contains a fully connected feed-forward network, which is applied to each position separately and identically. This consists of two linear transformations with a ReLU activation in between.\\n\\n$$\\\\mathrm{FFN}(x)=\\\\max(0,xW_{1}+b_{1})W_{2}+b_{2} \\\\tag{2}$$\\n\\nWhile the linear transformations are the same across different positions, they use different parameters from layer to layer. Another way of describing this is as two convolutions with kernel size 1. The dimensionality of input and output is $d_{\\\\text{model}}=512$, and the inner-layer has dimensionality $d_{ff}=2048$.\\n\\n### Embeddings and Softmax\\n\\nSimilarly to other sequence transduction models, we use learned embeddings to convert the input tokens and output tokens to vectors of dimension $d_{\\\\text{model}}$. We also use the usual learned linear transformation and softmax function to convert the decoder output to predicted next-token probabilities. In our model, we share the same weight matrix between the two embedding layers and the pre-softmax linear transformation, similar to [30]. In the embedding layers, we multiply those weights by $\\\\sqrt{d_{\\\\text{model}}}$\\n\\n### Positional Encoding\\n\\nSince our model contains no recurrence and no convolution, in order for the model to make use of the order of the sequence, we must inject some information about the relative or absolute position of the tokens in the sequence. To this end, we add \"positional encodings\" to the input embeddings at the bottoms of the encoder and decoder stacks. The positional encodings have the same dimension $d_{\\\\text{model}}$ as the embeddings, so that the two can be summed. There are many choices of positional encodings, learned and fixed [9].\\n\\nIn this work, we use sine and cosine functions of different frequencies:\\n\\n$$PE_{(pos,2i)} =sin(pos/10000^{2i/d_{\\\\text{model}}})$$ $$PE_{(pos,2i+1)} =cos(pos/10000^{2i/d_{\\\\text{model}}})$$\\n\\nwhere $pos$ is the position and $i$ is the dimension. That is, each dimension of the positional encoding corresponds to a sinusoid. The wavelengths form a geometric progression from $2\\\\pi$ to $10000\\\\cdot 2\\\\pi$. We chose this function because we hypothesized it would allow the model to easily learn to attend by relative positions, since for any fixed offset $k$, $PE_{pos+k}$ can be represented as a linear function of $PE_{pos}$.\\n\\nWe also experimented with using learned positional embeddings [9] instead, and found that the two versions produced nearly identical results (see Table 3 row (E)). We chose the sinusoidal version because it may allow the model to extrapolate to sequence lengths longer than the ones encountered during training.\\n\\n## 4 Why Self-Attention\\n\\nIn this section we compare various aspects of self-attention layers to the recurrent and convolutional layers commonly used for mapping one variable-length sequence of symbol representations $(x_{1},...,x_{n})$ to another sequence of equal length $(z_{1},...,z_{n})$, with $x_{i},z_{i}\\\\in\\\\mathbb{R}^{d}$, such as a hidden layer in a typical sequence transduction encoder or decoder. Motivating our use of self-attention we consider three desiderata.\\n\\nOne is the total computational complexity per layer. Another is the amount of computation that can be parallelized, as measured by the minimum number of sequential operations required.\\n\\nThe third is the path length between long-range dependencies in the network. Learning long-range dependencies is a key challenge in many sequence transduction tasks. One key factor affecting the ability to learn such dependencies is the length of the paths forward and backward signals have to traverse in the network. The shorter these paths between any combination of positions in the input and output sequences, the easier it is to learn long-range dependencies [12]. Hence we also compare the maximum path length between any two input and output positions in networks composed of the different layer types.\\n\\nAs noted in Table 1, a self-attention layer connects all positions with a constant number of sequentially executed operations, whereas a recurrent layer requires $O(n)$ sequential operations. In terms of computational complexity, self-attention layers are faster than recurrent layers when the sequence\\n\\n\\\\begin{table}\\n\\\\begin{tabular}{l c c c} \\\\hline \\\\hline Layer Type & Complexity per Layer & Sequential Operations & Maximum Path Length \\\\\\\\ \\\\hline Self-Attention & $O(n^{2}\\\\cdot d)$ & $O(1)$ & $O(1)$ \\\\\\\\ Recurrent & $O(n\\\\cdot d^{2})$ & $O(n)$ & $O(n)$ \\\\\\\\ Convolutional & $O(k\\\\cdot n\\\\cdot d^{2})$ & $O(1)$ & $O(log_{k}(n))$ \\\\\\\\ Self-Attention (restricted) & $O(r\\\\cdot n\\\\cdot d)$ & $O(1)$ & $O(n/r)$ \\\\\\\\ \\\\hline \\\\hline \\\\end{tabular}\\n\\\\end{table}\\nTable 1: Maximum path lengths, per-layer complexity and minimum number of sequential operations for different layer types. $n$ is the sequence length, $d$ is the representation dimension, $k$ is the kernel size of convolutions and $r$ the size of the neighborhood in restricted self-attention.\\n\\nlength $n$ is smaller than the representation dimensionality $d$, which is most often the case with sentence representations used by state-of-the-art models in machine translations, such as word-piece [38] and byte-pair [31] representations. To improve computational performance for tasks involving very long sequences, self-attention could be restricted to considering only a neighborhood of size $r$ in the input sequence centered around the respective output position. This would increase the maximum path length to $O(n/r)$. We plan to investigate this approach further in future work.\\n\\nA single convolutional layer with kernel width $k<n$ does not connect all pairs of input and output positions. Doing so requires a stack of $O(n/k)$ convolutional layers in the case of contiguous kernels, or $O(log_{k}(n))$ in the case of dilated convolutions [18], increasing the length of the longest paths between any two positions in the network. Convolutional layers are generally more expensive than recurrent layers, by a factor of $k$. Separable convolutions [6], however, decrease the complexity considerably, to $O(k\\\\cdot n\\\\cdot d+n\\\\cdot d^{2})$. Even with $k=n$, however, the complexity of a separable convolution is equal to the combination of a self-attention layer and a point-wise feed-forward layer, the approach we take in our model.\\n\\nAs side benefit, self-attention could yield more interpretable models. We inspect attention distributions from our models and present and discuss examples in the appendix. Not only do individual attention heads clearly learn to perform different tasks, many appear to exhibit behavior related to the syntactic and semantic structure of the sentences.\\n\\n## 5 Training\\n\\nThis section describes the training regime for our models.\\n\\n### Training Data and Batching\\n\\nWe trained on the standard WMT 2014 English-German dataset consisting of about 4.5 million sentence pairs. Sentences were encoded using byte-pair encoding [3], which has a shared source-target vocabulary of about 37000 tokens. For English-French, we used the significantly larger WMT 2014 English-French dataset consisting of 36M sentences and split tokens into a 32000 word-piece vocabulary [38]. Sentence pairs were batched together by approximate sequence length. Each training batch contained a set of sentence pairs containing approximately 25000 source tokens and 25000 target tokens.\\n\\n### Hardware and Schedule\\n\\nWe trained our models on one machine with 8 NVIDIA P100 GPUs. For our base models using the hyperparameters described throughout the paper, each training step took about 0.4 seconds. We trained the base models for a total of 100,000 steps or 12 hours. For our big models,(described on the bottom line of table 3), step time was 1.0 seconds. The big models were trained for 300,000 steps (3.5 days).\\n\\n### Optimizer\\n\\nWe used the Adam optimizer [20] with $\\\\beta_{1}=0.9$, $\\\\beta_{2}=0.98$ and $\\\\epsilon=10^{-9}$. We varied the learning rate over the course of training, according to the formula:\\n\\n$$\\\\small\\\\mathit{lrate}=d_{\\\\text{model}}^{-0.5}\\\\cdot\\\\min(\\\\mathit{step\\\\_num}^{-0.5 },\\\\mathit{step\\\\_num}\\\\cdot warmup\\\\_steps^{-1.5}) \\\\tag{3}$$\\n\\nThis corresponds to increasing the learning rate linearly for the first $warmup\\\\_steps$ training steps, and decreasing it thereafter proportionally to the inverse square root of the step number. We used $warmup\\\\_steps=4000$.\\n\\n### Regularization\\n\\nWe employ three types of regularization during training:Residual DropoutWe apply dropout [33] to the output of each sub-layer, before it is added to the sub-layer input and normalized. In addition, we apply dropout to the sums of the embeddings and the positional encodings in both the encoder and decoder stacks. For the base model, we use a rate of $P_{drop}=0.1$.\\n\\nLabel SmoothingDuring training, we employed label smoothing of value $\\\\epsilon_{ls}=0.1$[36]. This hurts perplexity, as the model learns to be more unsure, but improves accuracy and BLEU score.\\n\\n## 6 Results\\n\\n### Machine Translation\\n\\nOn the WMT 2014 English-to-German translation task, the big transformer model (Transformer (big) in Table 2) outperforms the best previously reported models (including ensembles) by more than $2.0$ BLEU, establishing a new state-of-the-art BLEU score of $28.4$. The configuration of this model is listed in the bottom line of Table 3. Training took $3.5$ days on $8$ P100 GPUs. Even our base model surpasses all previously published models and ensembles, at a fraction of the training cost of any of the competitive models.\\n\\nOn the WMT 2014 English-to-French translation task, our big model achieves a BLEU score of $41.0$, outperforming all of the previously published single models, at less than $1/4$ the training cost of the previous state-of-the-art model. The Transformer (big) model trained for English-to-French used dropout rate $P_{drop}=0.1$, instead of $0.3$.\\n\\nFor the base models, we used a single model obtained by averaging the last 5 checkpoints, which were written at 10-minute intervals. For the big models, we averaged the last 20 checkpoints. We used beam search with a beam size of $4$ and length penalty $\\\\alpha=0.6$[38]. These hyperparameters were chosen after experimentation on the development set. We set the maximum output length during inference to input length $+50$, but terminate early when possible [38].\\n\\nTable 2 summarizes our results and compares our translation quality and training costs to other model architectures from the literature. We estimate the number of floating point operations used to train a model by multiplying the training time, the number of GPUs used, and an estimate of the sustained single-precision floating-point capacity of each GPU 5.\\n\\nFootnote 5: We used values of 2.8, 3.7, 6.0 and 9.5 TFLOPS for K80, K40, M40 and P100, respectively.\\n\\n### Model Variations\\n\\nTo evaluate the importance of different components of the Transformer, we varied our base model in different ways, measuring the change in performance on English-to-German translation on the\\n\\n\\\\begin{table}\\n\\\\begin{tabular}{l c c c c} \\\\hline \\\\hline \\\\multirow{2}{*}{Model} & \\\\multicolumn{2}{c}{BLEU} & \\\\multicolumn{2}{c}{Training Cost (FLOPs)} \\\\\\\\ \\\\cline{2-5}  & EN-DE & EN-FR & EN-DE & EN-FR \\\\\\\\ \\\\hline ByteNet [18] & 23.75 & & & \\\\\\\\ Deep-Att + PosUnk [39] & & 39.2 & & $1.0\\\\cdot 10^{20}$ \\\\\\\\ GNMT + RL [38] & 24.6 & 39.92 & $2.3\\\\cdot 10^{19}$ & $1.4\\\\cdot 10^{20}$ \\\\\\\\ ConvS2S [9] & 25.16 & 40.46 & $9.6\\\\cdot 10^{18}$ & $1.5\\\\cdot 10^{20}$ \\\\\\\\ MoE [32] & 26.03 & 40.56 & $2.0\\\\cdot 10^{19}$ & $1.2\\\\cdot 10^{20}$ \\\\\\\\ \\\\hline Deep-Att + PosUnk Ensemble [39] & & 40.4 & & $8.0\\\\cdot 10^{20}$ \\\\\\\\ GNMT + RL Ensemble [38] & 26.30 & 41.16 & $1.8\\\\cdot 10^{20}$ & $1.1\\\\cdot 10^{21}$ \\\\\\\\ ConvS2S Ensemble [9] & 26.36 & **41.29** & $7.7\\\\cdot 10^{19}$ & $1.2\\\\cdot 10^{21}$ \\\\\\\\ \\\\hline Transformer (base model) & 27.3 & 38.1 & & $\\\\mathbf{3.3\\\\cdot 10^{18}}$ \\\\\\\\ Transformer (big) & **28.4** & **41.8** & & $2.3\\\\cdot 10^{19}$ \\\\\\\\ \\\\hline \\\\hline \\\\end{tabular}\\n\\\\end{table}\\nTable 2: The Transformer achieves better BLEU scores than previous state-of-the-art models on the English-to-German and English-to-French newstest2014 tests at a fraction of the training cost.\\n\\n[MISSING_PAGE_FAIL:9]\\n\\nincreased the maximum output length to input length + $300$. We used a beam size of $21$ and $\\\\alpha=0.3$ for both WSJ only and the semi-supervised setting.\\n\\nOur results in Table 4 show that despite the lack of task-specific tuning our model performs surprisingly well, yielding better results than all previously reported models with the exception of the Recurrent Neural Network Grammar [8].\\n\\nIn contrast to RNN sequence-to-sequence models [37], the Transformer outperforms the Berkeley-Parser [29] even when training only on the WSJ training set of 40K sentences.\\n\\n## 7 Conclusion\\n\\nIn this work, we presented the Transformer, the first sequence transduction model based entirely on attention, replacing the recurrent layers most commonly used in encoder-decoder architectures with multi-headed self-attention.\\n\\nFor translation tasks, the Transformer can be trained significantly faster than architectures based on recurrent or convolutional layers. On both WMT 2014 English-to-German and WMT 2014 English-to-French translation tasks, we achieve a new state of the art. In the former task our best model outperforms even all previously reported ensembles.\\n\\nWe are excited about the future of attention-based models and plan to apply them to other tasks. We plan to extend the Transformer to problems involving input and output modalities other than text and to investigate local, restricted attention mechanisms to efficiently handle large inputs and outputs such as images, audio and video. Making generation less sequential is another research goals of ours.\\n\\nThe code we used to train and evaluate our models is available at [https://github.com/tensorflow/tensor2tensor](https://github.com/tensorflow/tensor2tensor).\\n\\nAcknowledgementsWe are grateful to Nal Kalchbrenner and Stephan Gouws for their fruitful comments, corrections and inspiration.\\n\\n## References\\n\\n* [1] Jimmy Lei Ba, Jamie Ryan Kiros, and Geoffrey E Hinton. Layer normalization. _arXiv preprint arXiv:1607.06450_, 2016.\\n* [2] Dzmitry Bahdanau, Kyunghyun Cho, and Yoshua Bengio. Neural machine translation by jointly learning to align and translate. _CoRR_, abs/1409.0473, 2014.\\n* [3] Denny Britz, Anna Goldie, Minh-Thang Luong, and Quoc V. Le. Massive exploration of neural machine translation architectures. _CoRR_, abs/1703.03906, 2017.\\n* [4] Jianpeng Cheng, Li Dong, and Mirella Lapata. Long short-term memory-networks for machine reading. _arXiv preprint arXiv:1601.06733_, 2016.\\n\\n\\\\begin{table}\\n\\\\begin{tabular}{c|c|c} \\\\hline\\n**Parser** & **Training** & **WSJ 23 F1** \\\\\\\\ \\\\hline Vinyals \\\\& Kaiser al. (2014) [37] & WSJ only, discriminative & 88.3 \\\\\\\\ Petrov et al. (2006) [29] & WSJ only, discriminative & 90.4 \\\\\\\\ Zhu et al. (2013) [40] & WSJ only, discriminative & 90.4 \\\\\\\\ Dyer et al. (2016) [8] & WSJ only, discriminative & 91.7 \\\\\\\\ \\\\hline Transformer (4 layers) & WSJ only, discriminative & 91.3 \\\\\\\\ \\\\hline Zhu et al. (2013) [40] & semi-supervised & 91.3 \\\\\\\\ Huang \\\\& Harper (2009) [14] & semi-supervised & 91.3 \\\\\\\\ McClosky et al. (2006) [26] & semi-supervised & 92.1 \\\\\\\\ Vinyals \\\\& Kaiser el al. (2014) [37] & semi-supervised & 92.1 \\\\\\\\ \\\\hline Transformer (4 layers) & semi-supervised & 92.7 \\\\\\\\ \\\\hline Luong et al. (2015) [23] & multi-task & 93.0 \\\\\\\\ Dyer et al. (2016) [8] & generative & 93.3 \\\\\\\\ \\\\hline \\\\end{tabular}\\n\\\\end{table}\\nTable 4: The Transformer generalizes well to English constituency parsing (Results are on Section 23 of WSJ)* [5] Kyunghyun Cho, Bart van Merrienboer, Caglar Gulcehre, Fethi Bougares, Holger Schwenk, and Yoshua Bengio. Learning phrase representations using rnn encoder-decoder for statistical machine translation. _CoRR_, abs/1406.1078, 2014.\\n* [6] Francois Chollet. Xception: Deep learning with depthwise separable convolutions. _arXiv preprint arXiv:1610.02357_, 2016.\\n* [7] Junyoung Chung, Caglar Gulcehre, Kyunghyun Cho, and Yoshua Bengio. Empirical evaluation of gated recurrent neural networks on sequence modeling. _CoRR_, abs/1412.3555, 2014.\\n* [8] Chris Dyer, Adhiguna Kuncoro, Miguel Ballesteros, and Noah A. Smith. Recurrent neural network grammars. In _Proc. of NAACL_, 2016.\\n* [9] Jonas Gehring, Michael Auli, David Grangier, Denis Yarats, and Yann N. Dauphin. Convolutional sequence to sequence learning. _arXiv preprint arXiv:1705.03122v2_, 2017.\\n* [10] Alex Graves. Generating sequences with recurrent neural networks. _arXiv preprint arXiv:1308.0850_, 2013.\\n* [11] Kaiming He, Xiangyu Zhang, Shaoqing Ren, and Jian Sun. Deep residual learning for image recognition. In _Proceedings of the IEEE Conference on Computer Vision and Pattern Recognition_, pages 770-778, 2016.\\n* [12] Sepp Hochreiter, Yoshua Bengio, Paolo Frasconi, and Jurgen Schmidhuber. Gradient flow in recurrent nets: the difficulty of learning long-term dependencies, 2001.\\n* [13] Sepp Hochreiter and Jurgen Schmidhuber. Long short-term memory. _Neural computation_, 9(8):1735-1780, 1997.\\n* [14] Zhongqiang Huang and Mary Harper. Self-training PCFG grammars with latent annotations across languages. In _Proceedings of the 2009 Conference on Empirical Methods in Natural Language Processing_, pages 832-841. ACL, August 2009.\\n* [15] Rafal Jozefowicz, Oriol Vinyals, Mike Schuster, Noam Shazeer, and Yonghui Wu. Exploring the limits of language modeling. _arXiv preprint arXiv:1602.02410_, 2016.\\n* [16] Lukasz Kaiser and Samy Bengio. Can active memory replace attention? In _Advances in Neural Information Processing Systems, (NIPS)_, 2016.\\n* [17] Lukasz Kaiser and Ilya Sutskever. Neural GPUs learn algorithms. In _International Conference on Learning Representations (ICLR)_, 2016.\\n* [18] Nal Kalchbrenner, Lasse Espeholt, Karen Simonyan, Aaron van den Oord, Alex Graves, and Koray Kavukcuoglu. Neural machine translation in linear time. _arXiv preprint arXiv:1610.10099v2_, 2017.\\n* [19] Yoon Kim, Carl Denton, Luong Hoang, and Alexander M. Rush. Structured attention networks. In _International Conference on Learning Representations_, 2017.\\n* [20] Diederik Kingma and Jimmy Ba. Adam: A method for stochastic optimization. In _ICLR_, 2015.\\n* [21] Oleksii Kuchaiev and Boris Ginsburg. Factorization tricks for LSTM networks. _arXiv preprint arXiv:1703.10722_, 2017.\\n* [22] Zhouhan Lin, Minwei Feng, Cicero Nogueira dos Santos, Mo Yu, Bing Xiang, Bowen Zhou, and Yoshua Bengio. A structured self-attentive sentence embedding. _arXiv preprint arXiv:1703.03130_, 2017.\\n* [23] Minh-Thang Luong, Quoc V. Le, Ilya Sutskever, Oriol Vinyals, and Lukasz Kaiser. Multi-task sequence to sequence learning. _arXiv preprint arXiv:1511.06114_, 2015.\\n* [24] Minh-Thang Luong, Hieu Pham, and Christopher D Manning. Effective approaches to attention-based neural machine translation. _arXiv preprint arXiv:1508.04025_, 2015.\\n\\n* [25] Mitchell P Marcus, Mary Ann Marcinkiewicz, and Beatrice Santorini. Building a large annotated corpus of english: The penn treebank. _Computational linguistics_, 19(2):313-330, 1993.\\n* [26] David McClosky, Eugene Charniak, and Mark Johnson. Effective self-training for parsing. In _Proceedings of the Human Language Technology Conference of the NAACL, Main Conference_, pages 152-159. ACL, June 2006.\\n* [27] Ankur Parikh, Oscar Tackstrom, Dipanjan Das, and Jakob Uszkoreit. A decomposable attention model. In _Empirical Methods in Natural Language Processing_, 2016.\\n* [28] Romain Paulus, Caiming Xiong, and Richard Socher. A deep reinforced model for abstractive summarization. _arXiv preprint arXiv:1705.04304_, 2017.\\n* [29] Slav Petrov, Leon Barrett, Romain Thibaux, and Dan Klein. Learning accurate, compact, and interpretable tree annotation. In _Proceedings of the 21st International Conference on Computational Linguistics and 44th Annual Meeting of the ACL_, pages 433-440. ACL, July 2006.\\n* [30] Ofir Press and Lior Wolf. Using the output embedding to improve language models. _arXiv preprint arXiv:1608.05859_, 2016.\\n* [31] Rico Sennrich, Barry Haddow, and Alexandra Birch. Neural machine translation of rare words with subword units. _arXiv preprint arXiv:1508.07909_, 2015.\\n* [32] Noam Shazeer, Azalia Mirhoseini, Krzysztof Maziarz, Andy Davis, Quoc Le, Geoffrey Hinton, and Jeff Dean. Outrageously large neural networks: The sparsely-gated mixture-of-experts layer. _arXiv preprint arXiv:1701.06538_, 2017.\\n* [33] Nitish Srivastava, Geoffrey E Hinton, Alex Krizhevsky, Ilya Sutskever, and Ruslan Salakhutdinov. Dropout: a simple way to prevent neural networks from overfitting. _Journal of Machine Learning Research_, 15(1):1929-1958, 2014.\\n* [34] Sainbayar Sukhbaatar, Arthur Szlam, Jason Weston, and Rob Fergus. End-to-end memory networks. In C. Cortes, N. D. Lawrence, D. D. Lee, M. Sugiyama, and R. Garnett, editors, _Advances in Neural Information Processing Systems 28_, pages 2440-2448. Curran Associates, Inc., 2015.\\n* [35] Ilya Sutskever, Oriol Vinyals, and Quoc VV Le. Sequence to sequence learning with neural networks. In _Advances in Neural Information Processing Systems_, pages 3104-3112, 2014.\\n* [36] Christian Szegedy, Vincent Vanhoucke, Sergey Ioffe, Jonathon Shlens, and Zbigniew Wojna. Rethinking the inception architecture for computer vision. _CoRR_, abs/1512.00567, 2015.\\n* [37] Vinyals & Kaiser, Koo, Petrov, Sutskever, and Hinton. Grammar as a foreign language. In _Advances in Neural Information Processing Systems_, 2015.\\n* [38] Yonghui Wu, Mike Schuster, Zhifeng Chen, Quoc V Le, Mohammad Norouzi, Wolfgang Macherey, Maxim Krikun, Yuan Cao, Qin Gao, Klaus Macherey, et al. Google\\'s neural machine translation system: Bridging the gap between human and machine translation. _arXiv preprint arXiv:1609.08144_, 2016.\\n* [39] Jie Zhou, Ying Cao, Xuguang Wang, Peng Li, and Wei Xu. Deep recurrent models with fast-forward connections for neural machine translation. _CoRR_, abs/1606.04199, 2016.\\n* [40] Muhua Zhu, Yue Zhang, Wenliang Chen, Min Zhang, and Jingbo Zhu. Fast and accurate shift-reduce constituent parsing. In _Proceedings of the 51st Annual Meeting of the ACL (Volume 1: Long Papers)_, pages 434-443. ACL, August 2013.\\n\\n## Attention Visualizations\\n\\nFigure 3: An example of the attention mechanism following long-distance dependencies in the encoder self-attention in layer 5 of 6. Many of the attention heads attend to a distant dependency of the verb ‘making’, completing the phrase ‘making...more difficult’. Attentions here shown only for the word ‘making’. Different colors represent different heads. Best viewed in color.\\n\\nFigure 4: Two attention heads, also in layer 5 of 6, apparently involved in anaphora resolution. Top: Full attentions for head 5. Bottom: Isolated attentions from just the word ‘its’ for attention heads 5 and 6. Note that the attentions are very sharp for this word.\\n\\nFigure 5: Many of the attention heads exhibit behaviour that seems related to the structure of the sentence. We give two such examples above, from two different heads from the encoder self-attention at layer 5 of 6. The heads clearly learned to perform different tasks.'}]"
      ]
     },
     "execution_count": 8,
     "metadata": {},
     "output_type": "execute_result"
    }
   ],
   "source": [
    "if nougat_response.status_code == 200:\n",
    "    article_ls = eval(nougat_response.text)[\"message\"][\"article_ls\"]\n",
    "\n",
    "article_ls"
   ]
  },
  {
   "cell_type": "code",
   "execution_count": 9,
   "metadata": {},
   "outputs": [
    {
     "name": "stdout",
     "output_type": "stream",
     "text": [
      "Markdown file has been saved in d:\\git\\MMAPIS\\res\\1706_03762\\1706_03762.md\n"
     ]
    },
    {
     "data": {
      "text/plain": [
       "WindowsPath('d:/git/MMAPIS/res/1706_03762/1706_03762.md')"
      ]
     },
     "execution_count": 9,
     "metadata": {},
     "output_type": "execute_result"
    }
   ],
   "source": [
    "from pathlib import Path\n",
    "transformer_path = Path(transformer_pdf_path)\n",
    "transformer_md_path = transformer_path.with_suffix(\".md\")\n",
    "with open(transformer_md_path,\"w\") as f:\n",
    "    f.write(article_ls[0]['text'])\n",
    "    print(f\"Markdown file has been saved in {transformer_md_path}\")\n",
    "transformer_md_path"
   ]
  },
  {
   "cell_type": "markdown",
   "metadata": {},
   "source": [
    "### alignment\n",
    "\n",
    "To align text and an image, you need to provide the text that requires alignment and its corresponding PDF for parsing the image, at the very least."
   ]
  },
  {
   "cell_type": "code",
   "execution_count": 10,
   "metadata": {},
   "outputs": [
    {
     "data": {
      "text/plain": [
       "<Response [200]>"
      ]
     },
     "execution_count": 10,
     "metadata": {},
     "output_type": "execute_result"
    }
   ],
   "source": [
    "align_url = url + \"/alignment/\"\n",
    "markdown_file = transformer_md_path\n",
    "pdf_file = transformer_pdf_path\n",
    "files = []\n",
    "\n",
    "with open(markdown_file,\"r\") as f:\n",
    "    text = f.read()\n",
    "\n",
    "with open(pdf_file,\"rb\") as f:\n",
    "    files.append((\"pdf_content\",f))\n",
    "    params = {\n",
    "        \"text\":text,\n",
    "        \"raw_md_text\":text\n",
    "    }\n",
    "\n",
    "    align_response = requests.post(align_url,files=files,data=params)\n",
    "align_response"
   ]
  },
  {
   "cell_type": "code",
   "execution_count": 11,
   "metadata": {},
   "outputs": [
    {
     "name": "stdout",
     "output_type": "stream",
     "text": [
      "Alignment files has been saved in d:\\git\\MMAPIS\\res\\1706_03762\\alignment_raw\n"
     ]
    }
   ],
   "source": [
    "extract_dir = os.path.join(os.path.dirname(markdown_file), \"alignment_raw\")\n",
    "if not os.path.exists(extract_dir):\n",
    "    os.makedirs(extract_dir)\n",
    "if align_response.status_code == 200:\n",
    "    extract_zip_from_bytes(align_response.content,extract_dir)\n",
    "    print(f\"Alignment files has been saved in {extract_dir}\")"
   ]
  },
  {
   "cell_type": "markdown",
   "metadata": {},
   "source": [
    "## 2-stage Summarization"
   ]
  },
  {
   "cell_type": "markdown",
   "metadata": {},
   "source": [
    "### section level summary\n",
    "\n",
    "To generate a sectional summary of the file text, you need to configure the OpenAI model and provide your article text. The detailed meaning of each parameter can be viewed in the FastAPI Interactive API docs."
   ]
  },
  {
   "cell_type": "code",
   "execution_count": 12,
   "metadata": {},
   "outputs": [
    {
     "data": {
      "text/plain": [
       "<Response [200]>"
      ]
     },
     "execution_count": 12,
     "metadata": {},
     "output_type": "execute_result"
    }
   ],
   "source": [
    "import requests\n",
    "url = \"http://127.0.0.1:8000\"\n",
    "section_summry_url = url + \"/section_level_summry/\"\n",
    "file_path = transformer_md_path\n",
    "with open(file_path,\"r\") as f:\n",
    "    text = f.read()\n",
    "\n",
    "\n",
    "params = {\n",
    "    \"api_key\":OPENAI_CONFIG[\"api_key\"],\n",
    "    \"base_url\":OPENAI_CONFIG[\"base_url\"],\n",
    "    \"article_text\":text,\n",
    "    \"init_grid\":3,\n",
    "    \"max_grid\":4,\n",
    "    \"summary_prompts\":SECTION_PROMPTS,\n",
    "    \"summarizer_params\": {\n",
    "        \"rpm_limit\":OPENAI_CONFIG[\"rpm_limit\"],\n",
    "        \"ignore_titles\":OPENAI_CONFIG[\"ignore_title\"],\n",
    "        \"num_processes\":OPENAI_CONFIG[\"num_processes\"],\n",
    "        \"prompt_ratio\":OPENAI_CONFIG[\"prompt_ratio\"],\n",
    "        \"gpt_model_params\": OPENAI_CONFIG[\"model_config\"]\n",
    "\n",
    "    }\n",
    "}\n",
    "\n",
    "\n",
    "section_summry_response = requests.post(section_summry_url,json=params)\n",
    "section_summry_response"
   ]
  },
  {
   "cell_type": "code",
   "execution_count": 13,
   "metadata": {},
   "outputs": [
    {
     "data": {
      "text/plain": [
       "{'status': 'success',\n",
       " 'message': {'section_summary': '# Attention Is All You Need\\n\\n- Authors: Ashish Vaswani avaswani@google.com &Noam Shazeer1 noam@google.com &Niki Parmar1 nikip@google.com &Jakob Uszkoreit1 &Llion Jones1 llion@google.com &Aidan N. Gomez1 &Lukasz Kaiser1 lukaszkaiser@google.com illia.polosukhin@gmail.com\\n\\n- Affiliations: Google Brain Google Brain Google Research Google Research usz@google.com Google Research University of Toronto aidan@cs.toronto.edu Google Brain &Illia Polosukhin1 Equal contribution. Listing order is random. Jakob proposed replacing RNNs with self-attention and started the effort to evaluate this idea. Ashish, with Illia, designed and implemented the first Transformer models and has been crucially involved in every aspect of this work. Noam proposed scaled dot-product attention, multi-head attention and the parameter-free position representation and became the other person involved in nearly every detail. Niki designed, implemented, tuned and evaluated countless model variants in our original codebase and tensor2tensor. Llion also experimented with novel model variants, was responsible for our initial codebase, and efficient inference and visualizations. Lukasz and Aidan spent countless long days designing various parts of and implementing tensor2tensor, replacing our earlier codebase, greatly improving results and massively accelerating our research.Work performed while at Google Brain.Work performed while at Google Research.Work performed while at Google Research. Footnote 1: footnotemark: Footnote 2: footnotemark:\\n\\n## Abstract\\nThe paper presents the Transformer, a novel network architecture for sequence transduction tasks. Unlike traditional models that rely on recurrent or convolutional neural networks, the Transformer is based solely on attention mechanisms. It consists of an encoder and a decoder, each composed of multiple layers. The encoder maps input sequences to continuous representations, while the decoder generates output sequences based on the encoder\\'s representations. The attention mechanism used in the Transformer is Scaled Dot-Product Attention, which computes weights on values using dot products of queries and keys. The model also incorporates Multi-Head Attention, allowing it to attend to different representation subspaces simultaneously. Position-wise feed-forward networks are applied to each layer for further processing. Experimental results demonstrate that the Transformer achieves superior performance in machine translation tasks, surpassing existing models in quality while being more parallelizable and requiring less training time.\\n## Background\\nThe core research model used in the paper is called the Transformer, which is a network architecture based solely on attention mechanisms. Unlike traditional models that rely on recurrent or convolutional neural networks, the Transformer replaces them with self-attention mechanisms. The model consists of an encoder and a decoder, both composed of stacks of identical layers.\\n\\nThe encoder stack consists of six layers, each containing two sub-layers. The first sub-layer is a multi-head self-attention mechanism, which allows the model to attend to different positions within the input sequence. The second sub-layer is a position-wise fully connected feed-forward network. Residual connections and layer normalization are employed to facilitate information flow and alleviate vanishing gradient problems.\\n\\nSimilarly, the decoder stack also consists of six layers, with the addition of a third sub-layer that performs multi-head attention over the output of the encoder stack. The self-attention sub-layer in the decoder is modified to prevent positions from attending to subsequent positions, ensuring that predictions for position $i$ only depend on known outputs at positions less than $i$.\\n\\nThe attention mechanism used in the Transformer is called Scaled Dot-Product Attention. It computes the dot products of queries and keys, scales them by $\\\\frac{1}{\\\\sqrt{d_k}}$, applies a softmax function to obtain weights, and computes a weighted sum of values. This attention function is performed on a set of queries, keys, and values simultaneously, allowing for efficient computation.\\n\\nTo further enhance the model\\'s ability to attend to different representation subspaces, the Transformer employs Multi-Head Attention. Instead of performing a single attention function, the queries, keys, and values are linearly projected multiple times with different learned linear projections. The attention function is then applied in parallel to these projected versions, and the outputs are concatenated and projected again to obtain the final values.\\n\\nIn addition to attention sub-layers, each layer in the encoder and decoder also contains a position-wise feed-forward network. This network consists of two linear transformations with a ReLU activation in between. It is applied to each position separately and identically, providing another mechanism for capturing dependencies.\\n\\nThe empirical analysis in the paper demonstrates the efficacy of the Transformer model. Experiments on machine translation tasks show that the Transformer outperforms existing models in terms of translation quality, while being more parallelizable and requiring less training time. For example, on the WMT 2014 English-to-German translation task, the Transformer achieves a BLEU score of 28.4, improving over the existing best results by over 2 BLEU. On the WMT 2014 English-to-French translation task, the Transformer establishes a new single-model state-of-the-art BLEU score of 41.8, achieved after training for only 3.5 days on eight GPUs.\\n\\nThe effectiveness of the Transformer is attributed to its ability to capture global dependencies through self-attention mechanisms and its parallelizable nature. The use of multi-head attention allows the model to jointly attend to information from different representation subspaces, enhancing its performance.\\n\\nOne limitation of the Transformer is the reduced effective resolution due to averaging attention-weighted positions. This effect is countered by using Multi-Head Attention, but it still poses a challenge in capturing fine-grained details. Additionally, while the Transformer performs well on machine translation tasks, further analysis and experimentation are needed to evaluate its performance on other tasks.\\n\\nThe experimental techniques used in the paper involve training the Transformer on large-scale datasets, such as the WMT 2014 English-to-German and English-to-French translation tasks. The model is trained using GPUs and achieves state-of-the-art results in terms of translation quality. The data collection and processing involve preprocessing the input sequences and tokenizing them into subwords. The method analysis involves comparing the performance of the Transformer with existing models and evaluating its translation quality using the BLEU metric.\\n\\nOverall, the experimental techniques used in the paper are rigorous and effective in showcasing the innovation and efficacy of the Transformer model. The empirical analysis clearly demonstrates the superiority of the Transformer in terms of translation quality, parallelizability, and training time compared to existing models.\\n## Model Architecture\\nThe paper introduces the Transformer, a novel network architecture based solely on attention mechanisms, which eliminates the need for recurrent or convolutional neural networks. The model consists of an encoder and a decoder, both composed of stacked layers. The attention mechanism used in the model is called Scaled Dot-Product Attention, which computes the dot products of queries and keys to obtain weights on the values. Multi-Head Attention is employed to jointly attend to different information subspaces. Experimental results demonstrate that the Transformer outperforms existing models in terms of translation quality, parallelizability, and training time. The model achieves state-of-the-art results on translation tasks and generalizes well to other tasks. The paper provides a detailed description of the model\\'s architecture and its advantages over previous approaches.\\n### Encoder and Decoder Stacks\\nThe core research model in this paper is the Transformer, which is a network architecture based solely on attention mechanisms. Unlike traditional sequence transduction models that use recurrent or convolutional neural networks, the Transformer replaces them with self-attention mechanisms. The model consists of an encoder and a decoder, both composed of multiple identical layers.\\n\\nThe encoder is made up of a stack of six layers, each containing two sub-layers: a multi-head self-attention mechanism and a position-wise fully connected feed-forward network. These sub-layers are connected through residual connections and layer normalization. The output of each sub-layer has a dimension of 512.\\n\\nSimilarly, the decoder also consists of a stack of six identical layers. In addition to the two sub-layers present in the encoder layers, the decoder includes a third sub-layer that performs multi-head attention over the output of the encoder stack. The self-attention sub-layer in the decoder is modified to prevent positions from attending to subsequent positions, ensuring autoregressive property.\\n\\nThe attention mechanism used in the Transformer is called Scaled Dot-Product Attention. It takes queries, keys, and values as input and computes the dot products of the queries with the keys. The dot products are divided by the square root of the dimension of the keys and passed through a softmax function to obtain weights. These weights are then used to compute a weighted sum of the values.\\n\\nTo enhance the model\\'s performance, multi-head attention is employed. Instead of performing a single attention function, the queries, keys, and values are linearly projected multiple times with different learned linear projections. Each projected version is then used to perform attention in parallel, and the resulting values are concatenated and projected again to obtain the final values.\\n\\nIn addition to attention sub-layers, each layer in the encoder and decoder contains a position-wise feed-forward network. This network consists of two linear transformations with a ReLU activation in between. It operates on each position separately and identically.\\n\\nThe empirical analysis of the model\\'s efficacy is conducted through experiments on machine translation tasks. The paper shows that the Transformer outperforms existing models in terms of translation quality, parallelizability, and training time. On the WMT 2014 English-to-German translation task, the Transformer achieves a BLEU score of 28.4, improving over the existing best results by more than 2 BLEU. On the WMT 2014 English-to-French translation task, it establishes a new state-of-the-art BLEU score of 41.8.\\n\\nThe paper also demonstrates the generalization capability of the Transformer by successfully applying it to English constituency parsing. The model shows promising results even with limited training data.\\n\\nThe experimental techniques involve training the model on large datasets using GPUs. The effectiveness of the model is evaluated based on quantitative metrics such as BLEU score. The rigorous analysis includes comparisons with existing models and showcasing the superiority of the Transformer in terms of both performance and efficiency.\\n\\nOne limitation of the Transformer is the reduced effective resolution due to averaging attention-weighted positions. However, this effect is mitigated by the use of Multi-Head Attention. Another challenge is preventing leftward information flow in the decoder to maintain the auto-regressive property, which is achieved by masking out illegal connections in the scaled dot-product attention.\\n\\nOverall, the paper presents a novel and innovative model architecture, the Transformer, which relies solely on attention mechanisms. It demonstrates superior performance in machine translation tasks and showcases the advantages of parallelizability and reduced training time. The empirical analysis and experimental techniques employed provide strong evidence for the efficacy of the model.\\n### Attention\\nThe core research model proposed in the paper is called the Transformer, which is a network architecture based solely on attention mechanisms. Unlike traditional sequence transduction models that rely on recurrent or convolutional neural networks, the Transformer replaces recurrence and convolutions with attention mechanisms. \\n\\nThe encoder-decoder structure is used in most competitive neural sequence transduction models, where the encoder maps an input sequence to continuous representations, and the decoder generates an output sequence based on the encoded representations. In the Transformer, both the encoder and decoder are composed of a stack of identical layers. Each layer consists of two sub-layers: a multi-head self-attention mechanism and a position-wise fully connected feed-forward network. Residual connections and layer normalization are applied to facilitate information flow and improve training stability.\\n\\nThe attention mechanism used in the Transformer is called Scaled Dot-Product Attention. It computes the dot products of queries and keys, scales them by $\\\\frac{1}{\\\\sqrt{d_k}}$, applies a softmax function to obtain weights, and computes a weighted sum of values. This attention function is performed on a set of queries, keys, and values packed together into matrices. The dot-product attention is faster and more space-efficient compared to additive attention.\\n\\nTo allow the model to jointly attend to different information subspaces, the Transformer employs Multi-Head Attention. Instead of performing a single attention function, the queries, keys, and values are linearly projected multiple times with different learned linear projections. The attention function is then applied in parallel to each projected version, and the outputs are concatenated and projected again to obtain the final values.\\n\\nIn addition to attention sub-layers, each layer in the encoder and decoder contains a position-wise feed-forward network. This network consists of two linear transformations with a ReLU activation in between, applied separately and identically to each position.\\n\\nThe empirical analysis conducted in the paper demonstrates the effectiveness and innovation of the Transformer model. The authors conducted experiments on machine translation tasks and achieved superior translation quality compared to existing models. The Transformer models were also shown to be more parallelizable and required less training time. For example, the model achieved a BLEU score of 28.4 on the WMT 2014 English-to-German translation task, outperforming existing models by over 2 BLEU. On the WMT 2014 English-to-French translation task, the model established a new single-model state-of-the-art BLEU score of 41.8.\\n\\nThe experimental techniques involved training the Transformer models on large-scale datasets using GPUs. The data collection and processing involved preparing parallel corpora for machine translation tasks. The method analysis focused on evaluating translation quality using BLEU scores, which measure the similarity between machine-generated translations and human reference translations. The effectiveness of the Transformer model was demonstrated through significant improvements in translation quality and reduced training time.\\n\\nThe rigor of the experimental techniques and analysis is supported by the extensive evaluation on multiple tasks and comparison with existing models. The challenges in training such large-scale models include computational resource requirements and hyperparameter tuning. However, the empirical results showcased the efficacy of the Transformer model in achieving state-of-the-art performance in machine translation tasks.\\n### Position-wise Feed-Forward Networks\\nThe core research model used in the paper is called the Transformer. It is a new network architecture that relies solely on attention mechanisms, eliminating the need for recurrent or convolutional neural networks. The model consists of an encoder and a decoder, both composed of stacks of identical layers.\\n\\nThe encoder stack is composed of 6 layers, each containing two sub-layers: a multi-head self-attention mechanism and a position-wise fully connected feed-forward network. The output of each sub-layer is passed through a residual connection and layer normalization. The encoder stack allows for parallelization and produces continuous representations of the input sequence.\\n\\nThe decoder stack also has 6 layers, with the same sub-layers as the encoder, but with an additional sub-layer that performs multi-head attention over the output of the encoder stack. The self-attention sub-layer in the decoder is modified to prevent positions from attending to subsequent positions, ensuring auto-regression. The decoder stack generates an output sequence one element at a time, consuming previously generated symbols as additional input.\\n\\nThe attention mechanism used in the Transformer is called \"Scaled Dot-Product Attention\". It computes the dot products of queries with keys, scales them by dividing by the square root of the dimension of the keys, and applies a softmax function to obtain weights on the values. This attention function can be computed on a set of queries simultaneously, resulting in a matrix of outputs.\\n\\nTo allow the model to jointly attend to information from different representation subspaces, the Transformer employs multi-head attention. It linearly projects the queries, keys, and values multiple times with different learned linear projections before performing attention in parallel. The outputs are then concatenated and projected to obtain the final values.\\n\\nIn addition to the attention sub-layers, each layer in the encoder and decoder contains a position-wise feed-forward network. This network consists of two linear transformations with a ReLU activation in between. It operates on each position separately and identically.\\n\\nThe paper demonstrates the efficacy of the Transformer through empirical analysis on machine translation tasks. The model achieves superior quality compared to existing models, including ensembles, while being more parallelizable and requiring significantly less training time. On the WMT 2014 English-to-German translation task, the Transformer achieves a BLEU score of 28.4, improving over the previous best results by over 2 BLEU. On the WMT 2014 English-to-French translation task, it establishes a new single-model state-of-the-art BLEU score of 41.8.\\n\\nThe experimental technique used involves training the Transformer on machine translation tasks using large amounts of training data and multiple GPUs. The data collection and processing involve preparing parallel corpora for training and evaluation. The method analysis includes comparing the performance of the Transformer with other models and evaluating its translation quality using BLEU scores. The empirical analysis demonstrates the effectiveness and innovation of the Transformer model in achieving state-of-the-art results in machine translation tasks.\\n\\nOne limitation of the Transformer model is that it reduces effective resolution due to averaging attention-weighted positions. However, this effect is counteracted by using Multi-Head Attention. Another limitation is the need to prevent leftward information flow in the decoder to preserve auto-regression, which is achieved by masking out illegal connections in the scaled dot-product attention.\\n\\nOverall, the experimental techniques used in the paper are rigorous and effective in demonstrating the innovation and efficacy of the Transformer model. The analysis of the model\\'s performance and limitations provides valuable insights into its capabilities and potential areas of improvement.\\n### Embeddings and Softmax\\nThe core research model used in this paper is called the Transformer, which is a network architecture based solely on attention mechanisms. Unlike traditional sequence transduction models that rely on recurrent or convolutional neural networks, the Transformer eliminates the need for recurrence and convolutions, making it more parallelizable and faster to train.\\n\\nThe model consists of an encoder-decoder structure, where the encoder maps an input sequence to continuous representations, and the decoder generates an output sequence one element at a time. Both the encoder and decoder are composed of multiple identical layers. Each layer has two sub-layers: a multi-head self-attention mechanism and a position-wise fully connected feed-forward network. Residual connections and layer normalization are applied to facilitate information flow and alleviate the vanishing gradient problem.\\n\\nThe attention mechanism used in the Transformer is called \"Scaled Dot-Product Attention\". It computes the dot products between queries and keys, scales them by $\\\\frac{1}{\\\\sqrt{d_{k}}}$, applies softmax to obtain weights, and computes a weighted sum of values. This attention function is efficient and space-efficient, especially when performed on a set of queries simultaneously.\\n\\nTo enhance the model\\'s ability to attend to different representation subspaces, the Transformer employs multi-head attention. It linearly projects the queries, keys, and values with different learned linear projections and performs attention in parallel. The outputs from each attention head are concatenated and projected to obtain the final values.\\n\\nThe model also utilizes embeddings to convert input and output tokens into vectors. The embeddings are learned, and a shared weight matrix is used for both the embedding layers and the pre-softmax linear transformation.\\n\\nIn empirical analysis, the authors conducted experiments on machine translation tasks to evaluate the performance of the Transformer model. The model achieved superior translation quality compared to existing models while being more parallelizable and requiring less training time. On the WMT 2014 English-to-German translation task, the model achieved a BLEU score of 28.4, surpassing the previous best results by more than 2 BLEU. On the WMT 2014 English-to-French translation task, the model achieved a new single-model state-of-the-art BLEU score of 41.8. The authors also demonstrated that the Transformer generalizes well to other tasks, such as English constituency parsing.\\n\\nThe experimental techniques involved data collection and processing, where the authors used standard datasets for machine translation tasks. The method analysis focused on comparing the performance of the Transformer model with existing models, showcasing its superiority in terms of translation quality and training efficiency. The effectiveness of the model was demonstrated through quantitative evaluation metrics such as BLEU scores. The rigor of the experiments was ensured by conducting multiple experiments and comparing the results with established baselines. The challenges in training the Transformer model were addressed by leveraging attention mechanisms and parallelization techniques.\\n\\nOverall, the Transformer model presented in this paper showcases innovation by introducing a network architecture based solely on attention mechanisms, eliminating the need for recurrence and convolutions. The empirical analysis demonstrates the efficacy of the model in achieving state-of-the-art results in machine translation tasks. The experimental techniques employed were rigorous and effective in evaluating the model\\'s performance.\\n### Positional Encoding\\nThe paper introduces the Transformer, a network architecture based solely on attention mechanisms, for sequence transduction tasks. The Transformer model consists of an encoder and a decoder, both composed of stacked layers. The encoder maps an input sequence to continuous representations, while the decoder generates an output sequence based on the encoder\\'s representations. The attention mechanism used is called Scaled Dot-Product Attention, which computes dot products between queries and keys and applies softmax to obtain weights on the values. Multi-Head Attention is employed to allow the model to jointly attend to different representation subspaces. Positional encodings are added to provide information about the order of the sequence. \\n\\nExperimental results on machine translation tasks demonstrate that the Transformer models achieve superior quality compared to existing models, while being more parallelizable and requiring less training time. The Transformer achieves state-of-the-art results on translation tasks and generalizes well to other tasks. The paper also compares sinusoidal positional encodings with learned positional embeddings and finds similar performance. Specific numerical measurements, such as BLEU scores, are not provided in the summary.\\n## Why Self-Attention\\nThis section compares self-attention layers to recurrent and convolutional layers in sequence transduction tasks. The authors consider computational complexity, parallelizability, and path length between long-range dependencies. Self-attention layers have a constant number of operations and are faster than recurrent layers for shorter sequences. Convolutional layers require multiple layers to connect all positions, increasing path length. Self-attention also offers potential for more interpretable models.\\n## Training\\nUnfortunately, the paper does not provide any specific details or explanations about the training regime for the models. As a result, it is not possible to summarize this section accurately.\\n### Training Data and Batching\\nThe authors trained their model on two large-scale datasets: the WMT 2014 English-German dataset consisting of approximately 4.5 million sentence pairs and the WMT 2014 English-French dataset with 36 million sentences. To encode the sentences, they employed byte-pair encoding for English-German, resulting in a shared vocabulary of about 37,000 tokens, and a word-piece vocabulary of 32,000 tokens for English-French. The batching process involved grouping sentence pairs based on their approximate sequence length, with each batch containing around 25,000 source tokens and 25,000 target tokens. The utilization of these extensive datasets and innovative encoding techniques contributes to the effectiveness and robustness of the training process.\\n### Hardware and Schedule\\nThe models in the paper were trained on a machine with 8 NVIDIA P100 GPUs. The base models took 0.4 seconds per training step and were trained for 100,000 steps or 12 hours. The big models had a step time of 1.0 seconds and were trained for 300,000 steps or 3.5 days.\\n### Optimizer\\nThe paper utilizes the Adam optimizer with specific hyperparameters for training the Transformer model. The learning rate is dynamically adjusted during training, increasing linearly for the initial \"warmup_steps\" steps and then decreasing proportionally to the inverse square root of the step number. The paper sets \"warmup_steps\" to 4000.\\n### Regularization\\nIn the training section of the paper, the authors describe the regularization techniques used during the training of the Transformer model. They employ three types of regularization: residual dropout, dropout on embeddings and positional encodings, and label smoothing. \\n\\nResidual dropout is applied to the output of each sub-layer before it is added to the sub-layer input and normalized. Dropout is also applied to the sums of the embeddings and positional encodings in both the encoder and decoder stacks. The dropout rate used for the base model is $P_{drop}=0.1$.\\n\\nLabel smoothing is another regularization technique used during training. It involves adding a small amount of uniform noise to the target labels. In this case, a value of $\\\\epsilon_{ls}=0.1$ is used. Label smoothing helps improve accuracy and BLEU score, although it may hurt perplexity.\\n\\nThese regularization techniques are important for preventing overfitting and improving the generalization ability of the model during training.\\n## Results\\n\\n### Machine Translation\\nThe paper introduces a new model architecture called the Transformer, which is based solely on attention mechanisms and eliminates the need for recurrent or convolutional neural networks. The Transformer model consists of an encoder and a decoder, both composed of multiple layers. The encoder maps input sequences to continuous representations, while the decoder generates output sequences based on the encoder\\'s representations. The attention mechanism plays a crucial role in the Transformer model, allowing it to compute weighted sums of values based on the compatibility between queries and keys. Multi-head attention is employed to jointly attend to information from different subspaces at different positions.\\n\\nThe empirical analysis conducted on machine translation tasks demonstrates the superiority of the Transformer model. On the WMT 2014 English-to-German translation task, the big Transformer model achieves a BLEU score of 28.4, surpassing previous state-of-the-art models by more than 2 BLEU. Similarly, on the WMT 2014 English-to-French translation task, the big Transformer model achieves a BLEU score of 41.0, outperforming all previously published single models. The Transformer model also exhibits faster training times and lower computational costs compared to other model architectures.\\n### Model Variations\\nThe paper introduces a new network architecture called the Transformer, which is based solely on attention mechanisms and eliminates the need for recurrent or convolutional neural networks. The authors compare the Transformer with existing models on machine translation tasks and show that it achieves superior translation quality while being more parallelizable and requiring less training time. The model outperforms previous state-of-the-art results on the WMT 2014 English-to-German and English-to-French translation tasks, achieving a BLEU score of 28.4 and 41.8, respectively. The authors also demonstrate that the Transformer generalizes well to other tasks, such as English constituency parsing. \\n\\nThe core innovation of the Transformer lies in its attention mechanism, which allows for modeling dependencies between positions in the input and output sequences without regard to their distance. The authors introduce the concepts of scaled dot-product attention and multi-head attention, which enhance the model\\'s ability to capture global dependencies and attend to different representation subspaces. \\n\\nThrough experimental analysis, the authors evaluate the effectiveness of the Transformer and its variations. They compare different components of the model and show that even without task-specific tuning, the Transformer outperforms previous models on machine translation tasks. The results demonstrate the efficacy of the attention-based approach in achieving state-of-the-art performance in sequence transduction tasks.\\n\\nThe findings of this research have significant academic implications as they provide a new perspective on sequence transduction models. By eliminating recurrent and convolutional structures and relying solely on attention mechanisms, the Transformer offers improved parallelization, reduced training time, and superior translation quality. The results validate the research goals of developing a more efficient and effective model for sequence transduction tasks, and they provide strong evidence supporting the hypothesis that attention mechanisms can effectively capture dependencies in sequences.\\n## Conclusion\\nThe paper introduces the Transformer, a novel network architecture for sequence transduction tasks that relies solely on attention mechanisms. It eliminates the need for recurrent or convolutional layers and achieves state-of-the-art results in machine translation tasks. The Transformer model consists of an encoder and decoder stack, each composed of multiple layers. It employs Scaled Dot-Product Attention to compute weighted sums of values based on queries and keys. Multi-Head Attention allows the model to jointly attend to different representation subspaces. The Transformer demonstrates superior performance in terms of translation quality and training time compared to previous architectures. Future research directions include applying attention-based models to other tasks and exploring local attention mechanisms for handling large inputs and outputs.\\n## Attention Visualizations\\n\\n'}}"
      ]
     },
     "execution_count": 13,
     "metadata": {},
     "output_type": "execute_result"
    }
   ],
   "source": [
    "eval(section_summry_response.text)"
   ]
  },
  {
   "cell_type": "code",
   "execution_count": 14,
   "metadata": {},
   "outputs": [
    {
     "name": "stdout",
     "output_type": "stream",
     "text": [
      "Section summary has been saved in d:\\git\\MMAPIS\\res\\1706_03762\\section_summary.md\n"
     ]
    }
   ],
   "source": [
    "if section_summry_response.status_code == 200:\n",
    "    section_summry = eval(section_summry_response.text)[\"message\"][\"section_summary\"]\n",
    "    section_summary_path = Path(file_path).with_name(\"section_summary.md\")\n",
    "    with open(section_summary_path,\"w\") as f:\n",
    "        f.write(section_summry)\n",
    "        print(f\"Section summary has been saved in {section_summary_path}\")"
   ]
  },
  {
   "cell_type": "markdown",
   "metadata": {},
   "source": [
    "you can also align the section summary with the corresponding pdf for multi-modal interpretation"
   ]
  },
  {
   "cell_type": "code",
   "execution_count": 15,
   "metadata": {},
   "outputs": [
    {
     "data": {
      "text/plain": [
       "<Response [200]>"
      ]
     },
     "execution_count": 15,
     "metadata": {},
     "output_type": "execute_result"
    }
   ],
   "source": [
    "text = section_summry\n",
    "pdf_file = transformer_pdf_path\n",
    "files = []\n",
    "\n",
    "raw_md_path = transformer_md_path\n",
    "with open(raw_md_path,\"r\") as f:\n",
    "    raw_md_text = f.read()\n",
    "\n",
    "with open(pdf_file,\"rb\") as f:\n",
    "    files.append((\"pdf_content\",f))\n",
    "    params = {\n",
    "        \"text\":text,\n",
    "        \"raw_md_text\":raw_md_text\n",
    "    }\n",
    "    section_align_response = requests.post(align_url,files=files,data=params)\n",
    "section_align_response"
   ]
  },
  {
   "cell_type": "code",
   "execution_count": 16,
   "metadata": {},
   "outputs": [
    {
     "name": "stdout",
     "output_type": "stream",
     "text": [
      "Alignment files has been saved in d:\\git\\MMAPIS\\res\\1706_03762\\alignment_section\n"
     ]
    }
   ],
   "source": [
    "extract_dir = os.path.join(os.path.dirname(transformer_path), \"alignment_section\")\n",
    "if not os.path.exists(extract_dir):\n",
    "    os.makedirs(extract_dir)\n",
    "if align_response.status_code == 200:\n",
    "    extract_zip_from_bytes(section_align_response.content,extract_dir)\n",
    "    print(f\"Alignment files has been saved in {extract_dir}\")"
   ]
  },
  {
   "cell_type": "markdown",
   "metadata": {},
   "source": [
    "### Document Level Summary"
   ]
  },
  {
   "cell_type": "code",
   "execution_count": 17,
   "metadata": {},
   "outputs": [
    {
     "data": {
      "text/plain": [
       "<Response [200]>"
      ]
     },
     "execution_count": 17,
     "metadata": {},
     "output_type": "execute_result"
    }
   ],
   "source": [
    "document_summary_url = url + \"/document_level_summary/\"\n",
    "text = section_summry\n",
    "\n",
    "params = {\n",
    "    \"api_key\":OPENAI_CONFIG[\"api_key\"],\n",
    "    \"base_url\":OPENAI_CONFIG[\"base_url\"],\n",
    "    \"section_summaries\":text,\n",
    "    \"integrate_prompts\":INTEGRATE_PROMPTS,\n",
    "    \"summarizer_params\": {\n",
    "        \"rpm_limit\":OPENAI_CONFIG[\"rpm_limit\"],\n",
    "        \"ignore_titles\":OPENAI_CONFIG[\"ignore_title\"],\n",
    "        \"num_processes\":OPENAI_CONFIG[\"num_processes\"],\n",
    "        \"prompt_ratio\":OPENAI_CONFIG[\"prompt_ratio\"],\n",
    "        \"gpt_model_params\": OPENAI_CONFIG[\"model_config\"]\n",
    "\n",
    "    }\n",
    "}\n",
    "\n",
    "document_summary_response = requests.post(document_summary_url,json=params)\n",
    "document_summary_response\n"
   ]
  },
  {
   "cell_type": "code",
   "execution_count": 18,
   "metadata": {},
   "outputs": [
    {
     "name": "stdout",
     "output_type": "stream",
     "text": [
      "Document summary has been saved in d:\\git\\MMAPIS\\res\\1706_03762\\document_summary.md\n"
     ]
    }
   ],
   "source": [
    "if document_summary_response.status_code == 200:\n",
    "    document_level_summary = eval(document_summary_response.text)[\"message\"]\n",
    "    with open(Path(file_path).with_name(\"document_summary.md\"),\"w\") as f:\n",
    "        f.write(document_level_summary)\n",
    "        print(f\"Document summary has been saved in {Path(file_path).with_name('document_summary.md')}\")"
   ]
  },
  {
   "cell_type": "code",
   "execution_count": 19,
   "metadata": {},
   "outputs": [
    {
     "data": {
      "text/plain": [
       "<Response [200]>"
      ]
     },
     "execution_count": 19,
     "metadata": {},
     "output_type": "execute_result"
    }
   ],
   "source": [
    "text = document_level_summary\n",
    "pdf_file = transformer_pdf_path\n",
    "files = []\n",
    "with open(pdf_file,\"rb\") as f:\n",
    "    files.append((\"pdf_content\",f))\n",
    "\n",
    "    params = {\n",
    "        \"text\":text,\n",
    "        \"raw_md_text\":raw_md_text\n",
    "    }\n",
    "    document_align_response = requests.post(align_url,files=files,data=params)\n",
    "document_align_response"
   ]
  },
  {
   "cell_type": "code",
   "execution_count": 20,
   "metadata": {},
   "outputs": [
    {
     "name": "stdout",
     "output_type": "stream",
     "text": [
      "Alignment files has been saved in d:\\git\\MMAPIS\\res\\1706_03762\\alignment_document\n"
     ]
    }
   ],
   "source": [
    "extract_dir = os.path.join(os.path.dirname(transformer_path), \"alignment_document\")\n",
    "if not os.path.exists(extract_dir):\n",
    "    os.makedirs(extract_dir)\n",
    "if document_align_response.status_code == 200:\n",
    "    extract_zip_from_bytes(document_align_response.content,extract_dir)\n",
    "    print(f\"Alignment files has been saved in {extract_dir}\")"
   ]
  },
  {
   "cell_type": "markdown",
   "metadata": {},
   "source": [
    "## Application"
   ]
  },
  {
   "cell_type": "markdown",
   "metadata": {},
   "source": [
    "### blog generation\n",
    "\n",
    "The generated blog can be more readable and closer to human-made ones, but it may be less detailed compared to section-level summaries and document-level summaries."
   ]
  },
  {
   "cell_type": "code",
   "execution_count": 21,
   "metadata": {},
   "outputs": [
    {
     "data": {
      "text/plain": [
       "<Response [200]>"
      ]
     },
     "execution_count": 21,
     "metadata": {},
     "output_type": "execute_result"
    }
   ],
   "source": [
    "import json\n",
    "blog_url = url + \"/blog_generation/\"\n",
    "\n",
    "params = {\n",
    "    \"api_key\":OPENAI_CONFIG[\"api_key\"],\n",
    "    \"base_url\":OPENAI_CONFIG[\"base_url\"],\n",
    "    \"raw_md_text\":raw_md_text,\n",
    "    \"document_level_summary\":document_level_summary,\n",
    "    \"section_summary\":section_summry,\n",
    "    \"blog_prompts\":json.dumps(APPLICATION_PROMPTS[\"blog_prompts\"]),\n",
    "    \"init_grid\":ALIGNMENT_CONFIG[\"init_grid\"],\n",
    "    \"max_grid\":ALIGNMENT_CONFIG[\"max_grid\"],\n",
    "    \"threshold\":ALIGNMENT_CONFIG[\"threshold\"],\n",
    "    \"file_name\":\"blog\",\n",
    "    \"summarizer_params\": json.dumps(\n",
    "        {\n",
    "        \"rpm_limit\":OPENAI_CONFIG[\"rpm_limit\"],\n",
    "        \"ignore_titles\":OPENAI_CONFIG[\"ignore_title\"],\n",
    "        \"num_processes\":OPENAI_CONFIG[\"num_processes\"],\n",
    "        \"prompt_ratio\":OPENAI_CONFIG[\"prompt_ratio\"],\n",
    "        \"gpt_model_params\": OPENAI_CONFIG[\"model_config\"]\n",
    "\n",
    "    })\n",
    "}\n",
    "\n",
    "files = []\n",
    "with open(transformer_pdf_path,\"rb\") as f:\n",
    "    files.append((\"pdf_content\",f))\n",
    "    blog_response = requests.post(blog_url,data=params,files=files)\n",
    "blog_response\n",
    "\n"
   ]
  },
  {
   "cell_type": "code",
   "execution_count": 22,
   "metadata": {},
   "outputs": [
    {
     "data": {
      "text/plain": [
       "{'status': 'success',\n",
       " 'message': {'section_summary': '# Attention Is All You Need\\n\\n- Authors: Ashish Vaswani avaswani@google.com &Noam Shazeer1 noam@google.com &Niki Parmar1 nikip@google.com &Jakob Uszkoreit1 &Llion Jones1 llion@google.com &Aidan N. Gomez1 &Lukasz Kaiser1 lukaszkaiser@google.com illia.polosukhin@gmail.com\\n\\n- Affiliations: Google Brain Google Brain Google Research Google Research usz@google.com Google Research University of Toronto aidan@cs.toronto.edu Google Brain &Illia Polosukhin1 Equal contribution. Listing order is random. Jakob proposed replacing RNNs with self-attention and started the effort to evaluate this idea. Ashish, with Illia, designed and implemented the first Transformer models and has been crucially involved in every aspect of this work. Noam proposed scaled dot-product attention, multi-head attention and the parameter-free position representation and became the other person involved in nearly every detail. Niki designed, implemented, tuned and evaluated countless model variants in our original codebase and tensor2tensor. Llion also experimented with novel model variants, was responsible for our initial codebase, and efficient inference and visualizations. Lukasz and Aidan spent countless long days designing various parts of and implementing tensor2tensor, replacing our earlier codebase, greatly improving results and massively accelerating our research.Work performed while at Google Brain.Work performed while at Google Research.Work performed while at Google Research. Footnote 1: footnotemark: Footnote 2: footnotemark:\\n\\n## Abstract\\nThe paper presents the Transformer, a novel network architecture for sequence transduction tasks. Unlike traditional models that rely on recurrent or convolutional neural networks, the Transformer is based solely on attention mechanisms. It consists of an encoder and a decoder, each composed of multiple layers. The encoder maps input sequences to continuous representations, while the decoder generates output sequences based on the encoder\\'s representations. The attention mechanism used in the Transformer is Scaled Dot-Product Attention, which computes weights on values using dot products of queries and keys. The model also incorporates Multi-Head Attention, allowing it to attend to different representation subspaces simultaneously. Position-wise feed-forward networks are applied to each layer for further processing. Experimental results demonstrate that the Transformer achieves superior performance in machine translation tasks, surpassing existing models in quality while being more parallelizable and requiring less training time.\\n## Background\\nThe core research model used in the paper is called the Transformer, which is a network architecture based solely on attention mechanisms. Unlike traditional models that rely on recurrent or convolutional neural networks, the Transformer replaces them with self-attention mechanisms. The model consists of an encoder and a decoder, both composed of stacks of identical layers.\\n\\nThe encoder stack consists of six layers, each containing two sub-layers. The first sub-layer is a multi-head self-attention mechanism, which allows the model to attend to different positions within the input sequence. The second sub-layer is a position-wise fully connected feed-forward network. Residual connections and layer normalization are employed to facilitate information flow and alleviate vanishing gradient problems.\\n\\nSimilarly, the decoder stack also consists of six layers, with the addition of a third sub-layer that performs multi-head attention over the output of the encoder stack. The self-attention sub-layer in the decoder is modified to prevent positions from attending to subsequent positions, ensuring that predictions for position $i$ only depend on known outputs at positions less than $i$.\\n\\nThe attention mechanism used in the Transformer is called Scaled Dot-Product Attention. It computes the dot products of queries and keys, scales them by $\\\\frac{1}{\\\\sqrt{d_k}}$, applies a softmax function to obtain weights, and computes a weighted sum of values. This attention function is performed on a set of queries, keys, and values simultaneously, allowing for efficient computation.\\n\\nTo further enhance the model\\'s ability to attend to different representation subspaces, the Transformer employs Multi-Head Attention. Instead of performing a single attention function, the queries, keys, and values are linearly projected multiple times with different learned linear projections. The attention function is then applied in parallel to these projected versions, and the outputs are concatenated and projected again to obtain the final values.\\n\\nIn addition to attention sub-layers, each layer in the encoder and decoder also contains a position-wise feed-forward network. This network consists of two linear transformations with a ReLU activation in between. It is applied to each position separately and identically, providing another mechanism for capturing dependencies.\\n\\nThe empirical analysis in the paper demonstrates the efficacy of the Transformer model. Experiments on machine translation tasks show that the Transformer outperforms existing models in terms of translation quality, while being more parallelizable and requiring less training time. For example, on the WMT 2014 English-to-German translation task, the Transformer achieves a BLEU score of 28.4, improving over the existing best results by over 2 BLEU. On the WMT 2014 English-to-French translation task, the Transformer establishes a new single-model state-of-the-art BLEU score of 41.8, achieved after training for only 3.5 days on eight GPUs.\\n\\nThe effectiveness of the Transformer is attributed to its ability to capture global dependencies through self-attention mechanisms and its parallelizable nature. The use of multi-head attention allows the model to jointly attend to information from different representation subspaces, enhancing its performance.\\n\\nOne limitation of the Transformer is the reduced effective resolution due to averaging attention-weighted positions. This effect is countered by using Multi-Head Attention, but it still poses a challenge in capturing fine-grained details. Additionally, while the Transformer performs well on machine translation tasks, further analysis and experimentation are needed to evaluate its performance on other tasks.\\n\\nThe experimental techniques used in the paper involve training the Transformer on large-scale datasets, such as the WMT 2014 English-to-German and English-to-French translation tasks. The model is trained using GPUs and achieves state-of-the-art results in terms of translation quality. The data collection and processing involve preprocessing the input sequences and tokenizing them into subwords. The method analysis involves comparing the performance of the Transformer with existing models and evaluating its translation quality using the BLEU metric.\\n\\nOverall, the experimental techniques used in the paper are rigorous and effective in showcasing the innovation and efficacy of the Transformer model. The empirical analysis clearly demonstrates the superiority of the Transformer in terms of translation quality, parallelizability, and training time compared to existing models.\\n## Model Architecture\\nThe paper introduces the Transformer, a novel network architecture based solely on attention mechanisms, which eliminates the need for recurrent or convolutional neural networks. The model consists of an encoder and a decoder, both composed of stacked layers. The attention mechanism used in the model is called Scaled Dot-Product Attention, which computes the dot products of queries and keys to obtain weights on the values. Multi-Head Attention is employed to jointly attend to different information subspaces. Experimental results demonstrate that the Transformer outperforms existing models in terms of translation quality, parallelizability, and training time. The model achieves state-of-the-art results on translation tasks and generalizes well to other tasks. The paper provides a detailed description of the model\\'s architecture and its advantages over previous approaches.\\n### Encoder and Decoder Stacks\\nThe core research model in this paper is the Transformer, which is a network architecture based solely on attention mechanisms. Unlike traditional sequence transduction models that use recurrent or convolutional neural networks, the Transformer replaces them with self-attention mechanisms. The model consists of an encoder and a decoder, both composed of multiple identical layers.\\n\\nThe encoder is made up of a stack of six layers, each containing two sub-layers: a multi-head self-attention mechanism and a position-wise fully connected feed-forward network. These sub-layers are connected through residual connections and layer normalization. The output of each sub-layer has a dimension of 512.\\n\\nSimilarly, the decoder also consists of a stack of six identical layers. In addition to the two sub-layers present in the encoder layers, the decoder includes a third sub-layer that performs multi-head attention over the output of the encoder stack. The self-attention sub-layer in the decoder is modified to prevent positions from attending to subsequent positions, ensuring autoregressive property.\\n\\nThe attention mechanism used in the Transformer is called Scaled Dot-Product Attention. It takes queries, keys, and values as input and computes the dot products of the queries with the keys. The dot products are divided by the square root of the dimension of the keys and passed through a softmax function to obtain weights. These weights are then used to compute a weighted sum of the values.\\n\\nTo enhance the model\\'s performance, multi-head attention is employed. Instead of performing a single attention function, the queries, keys, and values are linearly projected multiple times with different learned linear projections. Each projected version is then used to perform attention in parallel, and the resulting values are concatenated and projected again to obtain the final values.\\n\\nIn addition to attention sub-layers, each layer in the encoder and decoder contains a position-wise feed-forward network. This network consists of two linear transformations with a ReLU activation in between. It operates on each position separately and identically.\\n\\nThe empirical analysis of the model\\'s efficacy is conducted through experiments on machine translation tasks. The paper shows that the Transformer outperforms existing models in terms of translation quality, parallelizability, and training time. On the WMT 2014 English-to-German translation task, the Transformer achieves a BLEU score of 28.4, improving over the existing best results by more than 2 BLEU. On the WMT 2014 English-to-French translation task, it establishes a new state-of-the-art BLEU score of 41.8.\\n\\nThe paper also demonstrates the generalization capability of the Transformer by successfully applying it to English constituency parsing. The model shows promising results even with limited training data.\\n\\nThe experimental techniques involve training the model on large datasets using GPUs. The effectiveness of the model is evaluated based on quantitative metrics such as BLEU score. The rigorous analysis includes comparisons with existing models and showcasing the superiority of the Transformer in terms of both performance and efficiency.\\n\\nOne limitation of the Transformer is the reduced effective resolution due to averaging attention-weighted positions. However, this effect is mitigated by the use of Multi-Head Attention. Another challenge is preventing leftward information flow in the decoder to maintain the auto-regressive property, which is achieved by masking out illegal connections in the scaled dot-product attention.\\n\\nOverall, the paper presents a novel and innovative model architecture, the Transformer, which relies solely on attention mechanisms. It demonstrates superior performance in machine translation tasks and showcases the advantages of parallelizability and reduced training time. The empirical analysis and experimental techniques employed provide strong evidence for the efficacy of the model.\\n### Attention\\nThe core research model proposed in the paper is called the Transformer, which is a network architecture based solely on attention mechanisms. Unlike traditional sequence transduction models that rely on recurrent or convolutional neural networks, the Transformer replaces recurrence and convolutions with attention mechanisms. \\n\\nThe encoder-decoder structure is used in most competitive neural sequence transduction models, where the encoder maps an input sequence to continuous representations, and the decoder generates an output sequence based on the encoded representations. In the Transformer, both the encoder and decoder are composed of a stack of identical layers. Each layer consists of two sub-layers: a multi-head self-attention mechanism and a position-wise fully connected feed-forward network. Residual connections and layer normalization are applied to facilitate information flow and improve training stability.\\n\\nThe attention mechanism used in the Transformer is called Scaled Dot-Product Attention. It computes the dot products of queries and keys, scales them by $\\\\frac{1}{\\\\sqrt{d_k}}$, applies a softmax function to obtain weights, and computes a weighted sum of values. This attention function is performed on a set of queries, keys, and values packed together into matrices. The dot-product attention is faster and more space-efficient compared to additive attention.\\n\\nTo allow the model to jointly attend to different information subspaces, the Transformer employs Multi-Head Attention. Instead of performing a single attention function, the queries, keys, and values are linearly projected multiple times with different learned linear projections. The attention function is then applied in parallel to each projected version, and the outputs are concatenated and projected again to obtain the final values.\\n\\nIn addition to attention sub-layers, each layer in the encoder and decoder contains a position-wise feed-forward network. This network consists of two linear transformations with a ReLU activation in between, applied separately and identically to each position.\\n\\nThe empirical analysis conducted in the paper demonstrates the effectiveness and innovation of the Transformer model. The authors conducted experiments on machine translation tasks and achieved superior translation quality compared to existing models. The Transformer models were also shown to be more parallelizable and required less training time. For example, the model achieved a BLEU score of 28.4 on the WMT 2014 English-to-German translation task, outperforming existing models by over 2 BLEU. On the WMT 2014 English-to-French translation task, the model established a new single-model state-of-the-art BLEU score of 41.8.\\n\\nThe experimental techniques involved training the Transformer models on large-scale datasets using GPUs. The data collection and processing involved preparing parallel corpora for machine translation tasks. The method analysis focused on evaluating translation quality using BLEU scores, which measure the similarity between machine-generated translations and human reference translations. The effectiveness of the Transformer model was demonstrated through significant improvements in translation quality and reduced training time.\\n\\nThe rigor of the experimental techniques and analysis is supported by the extensive evaluation on multiple tasks and comparison with existing models. The challenges in training such large-scale models include computational resource requirements and hyperparameter tuning. However, the empirical results showcased the efficacy of the Transformer model in achieving state-of-the-art performance in machine translation tasks.\\n### Position-wise Feed-Forward Networks\\nThe core research model used in the paper is called the Transformer. It is a new network architecture that relies solely on attention mechanisms, eliminating the need for recurrent or convolutional neural networks. The model consists of an encoder and a decoder, both composed of stacks of identical layers.\\n\\nThe encoder stack is composed of 6 layers, each containing two sub-layers: a multi-head self-attention mechanism and a position-wise fully connected feed-forward network. The output of each sub-layer is passed through a residual connection and layer normalization. The encoder stack allows for parallelization and produces continuous representations of the input sequence.\\n\\nThe decoder stack also has 6 layers, with the same sub-layers as the encoder, but with an additional sub-layer that performs multi-head attention over the output of the encoder stack. The self-attention sub-layer in the decoder is modified to prevent positions from attending to subsequent positions, ensuring auto-regression. The decoder stack generates an output sequence one element at a time, consuming previously generated symbols as additional input.\\n\\nThe attention mechanism used in the Transformer is called \"Scaled Dot-Product Attention\". It computes the dot products of queries with keys, scales them by dividing by the square root of the dimension of the keys, and applies a softmax function to obtain weights on the values. This attention function can be computed on a set of queries simultaneously, resulting in a matrix of outputs.\\n\\nTo allow the model to jointly attend to information from different representation subspaces, the Transformer employs multi-head attention. It linearly projects the queries, keys, and values multiple times with different learned linear projections before performing attention in parallel. The outputs are then concatenated and projected to obtain the final values.\\n\\nIn addition to the attention sub-layers, each layer in the encoder and decoder contains a position-wise feed-forward network. This network consists of two linear transformations with a ReLU activation in between. It operates on each position separately and identically.\\n\\nThe paper demonstrates the efficacy of the Transformer through empirical analysis on machine translation tasks. The model achieves superior quality compared to existing models, including ensembles, while being more parallelizable and requiring significantly less training time. On the WMT 2014 English-to-German translation task, the Transformer achieves a BLEU score of 28.4, improving over the previous best results by over 2 BLEU. On the WMT 2014 English-to-French translation task, it establishes a new single-model state-of-the-art BLEU score of 41.8.\\n\\nThe experimental technique used involves training the Transformer on machine translation tasks using large amounts of training data and multiple GPUs. The data collection and processing involve preparing parallel corpora for training and evaluation. The method analysis includes comparing the performance of the Transformer with other models and evaluating its translation quality using BLEU scores. The empirical analysis demonstrates the effectiveness and innovation of the Transformer model in achieving state-of-the-art results in machine translation tasks.\\n\\nOne limitation of the Transformer model is that it reduces effective resolution due to averaging attention-weighted positions. However, this effect is counteracted by using Multi-Head Attention. Another limitation is the need to prevent leftward information flow in the decoder to preserve auto-regression, which is achieved by masking out illegal connections in the scaled dot-product attention.\\n\\nOverall, the experimental techniques used in the paper are rigorous and effective in demonstrating the innovation and efficacy of the Transformer model. The analysis of the model\\'s performance and limitations provides valuable insights into its capabilities and potential areas of improvement.\\n### Embeddings and Softmax\\nThe core research model used in this paper is called the Transformer, which is a network architecture based solely on attention mechanisms. Unlike traditional sequence transduction models that rely on recurrent or convolutional neural networks, the Transformer eliminates the need for recurrence and convolutions, making it more parallelizable and faster to train.\\n\\nThe model consists of an encoder-decoder structure, where the encoder maps an input sequence to continuous representations, and the decoder generates an output sequence one element at a time. Both the encoder and decoder are composed of multiple identical layers. Each layer has two sub-layers: a multi-head self-attention mechanism and a position-wise fully connected feed-forward network. Residual connections and layer normalization are applied to facilitate information flow and alleviate the vanishing gradient problem.\\n\\nThe attention mechanism used in the Transformer is called \"Scaled Dot-Product Attention\". It computes the dot products between queries and keys, scales them by $\\\\frac{1}{\\\\sqrt{d_{k}}}$, applies softmax to obtain weights, and computes a weighted sum of values. This attention function is efficient and space-efficient, especially when performed on a set of queries simultaneously.\\n\\nTo enhance the model\\'s ability to attend to different representation subspaces, the Transformer employs multi-head attention. It linearly projects the queries, keys, and values with different learned linear projections and performs attention in parallel. The outputs from each attention head are concatenated and projected to obtain the final values.\\n\\nThe model also utilizes embeddings to convert input and output tokens into vectors. The embeddings are learned, and a shared weight matrix is used for both the embedding layers and the pre-softmax linear transformation.\\n\\nIn empirical analysis, the authors conducted experiments on machine translation tasks to evaluate the performance of the Transformer model. The model achieved superior translation quality compared to existing models while being more parallelizable and requiring less training time. On the WMT 2014 English-to-German translation task, the model achieved a BLEU score of 28.4, surpassing the previous best results by more than 2 BLEU. On the WMT 2014 English-to-French translation task, the model achieved a new single-model state-of-the-art BLEU score of 41.8. The authors also demonstrated that the Transformer generalizes well to other tasks, such as English constituency parsing.\\n\\nThe experimental techniques involved data collection and processing, where the authors used standard datasets for machine translation tasks. The method analysis focused on comparing the performance of the Transformer model with existing models, showcasing its superiority in terms of translation quality and training efficiency. The effectiveness of the model was demonstrated through quantitative evaluation metrics such as BLEU scores. The rigor of the experiments was ensured by conducting multiple experiments and comparing the results with established baselines. The challenges in training the Transformer model were addressed by leveraging attention mechanisms and parallelization techniques.\\n\\nOverall, the Transformer model presented in this paper showcases innovation by introducing a network architecture based solely on attention mechanisms, eliminating the need for recurrence and convolutions. The empirical analysis demonstrates the efficacy of the model in achieving state-of-the-art results in machine translation tasks. The experimental techniques employed were rigorous and effective in evaluating the model\\'s performance.\\n### Positional Encoding\\nThe paper introduces the Transformer, a network architecture based solely on attention mechanisms, for sequence transduction tasks. The Transformer model consists of an encoder and a decoder, both composed of stacked layers. The encoder maps an input sequence to continuous representations, while the decoder generates an output sequence based on the encoder\\'s representations. The attention mechanism used is called Scaled Dot-Product Attention, which computes dot products between queries and keys and applies softmax to obtain weights on the values. Multi-Head Attention is employed to allow the model to jointly attend to different representation subspaces. Positional encodings are added to provide information about the order of the sequence. \\n\\nExperimental results on machine translation tasks demonstrate that the Transformer models achieve superior quality compared to existing models, while being more parallelizable and requiring less training time. The Transformer achieves state-of-the-art results on translation tasks and generalizes well to other tasks. The paper also compares sinusoidal positional encodings with learned positional embeddings and finds similar performance. Specific numerical measurements, such as BLEU scores, are not provided in the summary.\\n## Why Self-Attention\\nThis section compares self-attention layers to recurrent and convolutional layers in sequence transduction tasks. The authors consider computational complexity, parallelizability, and path length between long-range dependencies. Self-attention layers have a constant number of operations and are faster than recurrent layers for shorter sequences. Convolutional layers require multiple layers to connect all positions, increasing path length. Self-attention also offers potential for more interpretable models.\\n## Training\\nUnfortunately, the paper does not provide any specific details or explanations about the training regime for the models. As a result, it is not possible to summarize this section accurately.\\n### Training Data and Batching\\nThe authors trained their model on two large-scale datasets: the WMT 2014 English-German dataset consisting of approximately 4.5 million sentence pairs and the WMT 2014 English-French dataset with 36 million sentences. To encode the sentences, they employed byte-pair encoding for English-German, resulting in a shared vocabulary of about 37,000 tokens, and a word-piece vocabulary of 32,000 tokens for English-French. The batching process involved grouping sentence pairs based on their approximate sequence length, with each batch containing around 25,000 source tokens and 25,000 target tokens. The utilization of these extensive datasets and innovative encoding techniques contributes to the effectiveness and robustness of the training process.\\n### Hardware and Schedule\\nThe models in the paper were trained on a machine with 8 NVIDIA P100 GPUs. The base models took 0.4 seconds per training step and were trained for 100,000 steps or 12 hours. The big models had a step time of 1.0 seconds and were trained for 300,000 steps or 3.5 days.\\n### Optimizer\\nThe paper utilizes the Adam optimizer with specific hyperparameters for training the Transformer model. The learning rate is dynamically adjusted during training, increasing linearly for the initial \"warmup_steps\" steps and then decreasing proportionally to the inverse square root of the step number. The paper sets \"warmup_steps\" to 4000.\\n### Regularization\\nIn the training section of the paper, the authors describe the regularization techniques used during the training of the Transformer model. They employ three types of regularization: residual dropout, dropout on embeddings and positional encodings, and label smoothing. \\n\\nResidual dropout is applied to the output of each sub-layer before it is added to the sub-layer input and normalized. Dropout is also applied to the sums of the embeddings and positional encodings in both the encoder and decoder stacks. The dropout rate used for the base model is $P_{drop}=0.1$.\\n\\nLabel smoothing is another regularization technique used during training. It involves adding a small amount of uniform noise to the target labels. In this case, a value of $\\\\epsilon_{ls}=0.1$ is used. Label smoothing helps improve accuracy and BLEU score, although it may hurt perplexity.\\n\\nThese regularization techniques are important for preventing overfitting and improving the generalization ability of the model during training.\\n## Results\\n\\n### Machine Translation\\nThe paper introduces a new model architecture called the Transformer, which is based solely on attention mechanisms and eliminates the need for recurrent or convolutional neural networks. The Transformer model consists of an encoder and a decoder, both composed of multiple layers. The encoder maps input sequences to continuous representations, while the decoder generates output sequences based on the encoder\\'s representations. The attention mechanism plays a crucial role in the Transformer model, allowing it to compute weighted sums of values based on the compatibility between queries and keys. Multi-head attention is employed to jointly attend to information from different subspaces at different positions.\\n\\nThe empirical analysis conducted on machine translation tasks demonstrates the superiority of the Transformer model. On the WMT 2014 English-to-German translation task, the big Transformer model achieves a BLEU score of 28.4, surpassing previous state-of-the-art models by more than 2 BLEU. Similarly, on the WMT 2014 English-to-French translation task, the big Transformer model achieves a BLEU score of 41.0, outperforming all previously published single models. The Transformer model also exhibits faster training times and lower computational costs compared to other model architectures.\\n### Model Variations\\nThe paper introduces a new network architecture called the Transformer, which is based solely on attention mechanisms and eliminates the need for recurrent or convolutional neural networks. The authors compare the Transformer with existing models on machine translation tasks and show that it achieves superior translation quality while being more parallelizable and requiring less training time. The model outperforms previous state-of-the-art results on the WMT 2014 English-to-German and English-to-French translation tasks, achieving a BLEU score of 28.4 and 41.8, respectively. The authors also demonstrate that the Transformer generalizes well to other tasks, such as English constituency parsing. \\n\\nThe core innovation of the Transformer lies in its attention mechanism, which allows for modeling dependencies between positions in the input and output sequences without regard to their distance. The authors introduce the concepts of scaled dot-product attention and multi-head attention, which enhance the model\\'s ability to capture global dependencies and attend to different representation subspaces. \\n\\nThrough experimental analysis, the authors evaluate the effectiveness of the Transformer and its variations. They compare different components of the model and show that even without task-specific tuning, the Transformer outperforms previous models on machine translation tasks. The results demonstrate the efficacy of the attention-based approach in achieving state-of-the-art performance in sequence transduction tasks.\\n\\nThe findings of this research have significant academic implications as they provide a new perspective on sequence transduction models. By eliminating recurrent and convolutional structures and relying solely on attention mechanisms, the Transformer offers improved parallelization, reduced training time, and superior translation quality. The results validate the research goals of developing a more efficient and effective model for sequence transduction tasks, and they provide strong evidence supporting the hypothesis that attention mechanisms can effectively capture dependencies in sequences.\\n## Conclusion\\nThe paper introduces the Transformer, a novel network architecture for sequence transduction tasks that relies solely on attention mechanisms. It eliminates the need for recurrent or convolutional layers and achieves state-of-the-art results in machine translation tasks. The Transformer model consists of an encoder and decoder stack, each composed of multiple layers. It employs Scaled Dot-Product Attention to compute weighted sums of values based on queries and keys. Multi-Head Attention allows the model to jointly attend to different representation subspaces. The Transformer demonstrates superior performance in terms of translation quality and training time compared to previous architectures. Future research directions include applying attention-based models to other tasks and exploring local attention mechanisms for handling large inputs and outputs.\\n## Attention Visualizations\\n\\n'}}"
      ]
     },
     "execution_count": 22,
     "metadata": {},
     "output_type": "execute_result"
    }
   ],
   "source": [
    "eval(section_summry_response.text)"
   ]
  },
  {
   "cell_type": "code",
   "execution_count": 23,
   "metadata": {},
   "outputs": [
    {
     "name": "stdout",
     "output_type": "stream",
     "text": [
      "Alignment files has been saved in d:\\git\\MMAPIS\\res\\1706_03762\\alignment_blog\n"
     ]
    }
   ],
   "source": [
    "if blog_response.status_code == 200:\n",
    "    extract_dir = os.path.join(os.path.dirname(transformer_path), \"alignment_blog\")\n",
    "    if not os.path.exists(extract_dir):\n",
    "        os.makedirs(extract_dir)\n",
    "    extract_zip_from_bytes(blog_response.content,extract_dir)\n",
    "    print(f\"Alignment files has been saved in {extract_dir}\")"
   ]
  },
  {
   "cell_type": "markdown",
   "metadata": {},
   "source": [
    "## recommendation generation\n",
    "\n",
    "\n",
    "Generate a recommendation score based on the raw article text and document-level summary."
   ]
  },
  {
   "cell_type": "code",
   "execution_count": 24,
   "metadata": {},
   "outputs": [
    {
     "data": {
      "text/plain": [
       "<Response [200]>"
      ]
     },
     "execution_count": 24,
     "metadata": {},
     "output_type": "execute_result"
    }
   ],
   "source": [
    "recommendation_url = url + \"/recommendation_generation/\"\n",
    "raw_text_path = transformer_md_path\n",
    "with open(raw_text_path,\"r\") as f:\n",
    "    raw_text = f.read()\n",
    "\n",
    "params = {\n",
    "    \"api_key\":OPENAI_CONFIG[\"api_key\"],\n",
    "    \"base_url\":OPENAI_CONFIG[\"base_url\"],\n",
    "    \"document_level_summary\":document_level_summary,\n",
    "    \"raw_text\":raw_text,\n",
    "    \"score_prompts\":APPLICATION_PROMPTS[\"score_prompts\"],\n",
    "    \"summarizer_params\": {\n",
    "        \"rpm_limit\":OPENAI_CONFIG[\"rpm_limit\"],\n",
    "        \"ignore_titles\":OPENAI_CONFIG[\"ignore_title\"],\n",
    "        \"num_processes\":OPENAI_CONFIG[\"num_processes\"],\n",
    "        \"prompt_ratio\":OPENAI_CONFIG[\"prompt_ratio\"],\n",
    "        \"gpt_model_params\": OPENAI_CONFIG[\"model_config\"]\n",
    "    }\n",
    "}\n",
    "\n",
    "recommendation_response = requests.post(recommendation_url,json=params)\n",
    "recommendation_response\n"
   ]
  },
  {
   "cell_type": "code",
   "execution_count": 25,
   "metadata": {},
   "outputs": [
    {
     "name": "stdout",
     "output_type": "stream",
     "text": [
      "Recommendation has been saved in d:\\git\\MMAPIS\\res\\1706_03762\\recommendation.md\n"
     ]
    }
   ],
   "source": [
    "recommendation = eval(recommendation_response.text)[\"message\"]\n",
    "with open(Path(raw_text_path).with_name(\"recommendation.md\"),\"w\") as f:\n",
    "    f.write(recommendation)\n",
    "    print(f\"Recommendation has been saved in {Path(raw_text_path).with_name('recommendation.md')}\")\n",
    "    "
   ]
  },
  {
   "cell_type": "markdown",
   "metadata": {},
   "source": [
    "## TTS geenration\n",
    "\n",
    "Generate a broadcast-quality product along with its accomodating MP3 format specifically suited for speech applications."
   ]
  },
  {
   "cell_type": "code",
   "execution_count": 26,
   "metadata": {},
   "outputs": [
    {
     "data": {
      "text/plain": [
       "<Response [200]>"
      ]
     },
     "execution_count": 26,
     "metadata": {},
     "output_type": "execute_result"
    }
   ],
   "source": [
    "broadcast_url = url + \"/broadcast_generation/\"\n",
    "\n",
    "params = {\n",
    "    \"llm_api_key\":OPENAI_CONFIG[\"api_key\"],\n",
    "    \"llm_base_url\":OPENAI_CONFIG[\"base_url\"],\n",
    "    \"document_level_summary\":document_level_summary,\n",
    "    \"section_summaries\":section_summry,\n",
    "    \"broadcast_prompts\": APPLICATION_PROMPTS[\"broadcast_prompts\"],\n",
    "    \"summarizer_params\": {\n",
    "        \"rpm_limit\":OPENAI_CONFIG[\"rpm_limit\"],\n",
    "        \"ignore_titles\":OPENAI_CONFIG[\"ignore_title\"],\n",
    "        \"num_processes\":OPENAI_CONFIG[\"num_processes\"],\n",
    "        \"prompt_ratio\":OPENAI_CONFIG[\"prompt_ratio\"],\n",
    "        \"gpt_model_params\": OPENAI_CONFIG[\"model_config\"]\n",
    "    }\n",
    "}\n",
    "\n",
    "broadcast_response = requests.post(broadcast_url,json=params)\n",
    "broadcast_response\n",
    "\n"
   ]
  },
  {
   "cell_type": "code",
   "execution_count": 27,
   "metadata": {},
   "outputs": [
    {
     "data": {
      "text/plain": [
       "{'status': 'success',\n",
       " 'message': {'broadcast_script': 'Welcome to our discussion, today we will introduce a paper titled \"Attention Is All You Need\", with primary authors including Ashish Vaswani, Noam Shazeer, Niki Parmar, Jakob Uszkoreit, Llion Jones, Aidan N. Gomez, Lukasz Kaiser, and Illia Polosukhin. The paper presents a novel network architecture called the Transformer for sequence transduction tasks. Unlike traditional models that rely on recurrent or convolutional neural networks, the Transformer is based solely on attention mechanisms.\\n\\nThe Transformer model consists of an encoder and a decoder, both composed of stacked layers. The encoder maps input sequences to continuous representations, while the decoder generates output sequences based on the encoder\\'s representations. The attention mechanism used in the Transformer is called Scaled Dot-Product Attention, which computes weights on values using dot products of queries and keys. The model also incorporates Multi-Head Attention, allowing it to attend to different representation subspaces simultaneously. Position-wise feed-forward networks are applied to each layer for further processing.\\n\\nThe core research model used in the paper is the Transformer, which replaces recurrent or convolutional neural networks with self-attention mechanisms. The encoder and decoder stacks consist of multiple identical layers, with each layer containing two sub-layers: a multi-head self-attention mechanism and a position-wise fully connected feed-forward network. Residual connections and layer normalization are employed to facilitate information flow and alleviate vanishing gradient problems.\\n\\nThe attention mechanism used in the Transformer is Scaled Dot-Product Attention, which computes the dot products of queries and keys, scales them by $\\\\frac{1}{\\\\sqrt{d_k}}$, applies a softmax function to obtain weights, and computes a weighted sum of values. This attention function is performed on a set of queries, keys, and values simultaneously, allowing for efficient computation.\\n\\nTo enhance the model\\'s ability to attend to different representation subspaces, the Transformer employs Multi-Head Attention. Instead of performing a single attention function, the queries, keys, and values are linearly projected multiple times with different learned linear projections. The attention function is then applied in parallel to these projected versions, and the outputs are concatenated and projected again to obtain the final values.\\n\\nIn addition to attention sub-layers, each layer in the encoder and decoder contains a position-wise feed-forward network. This network consists of two linear transformations with a ReLU activation in between. It operates on each position separately and identically, providing another mechanism for capturing dependencies.\\n\\nThe empirical analysis conducted in the paper demonstrates the efficacy of the Transformer model. Experimental results on machine translation tasks show that the Transformer outperforms existing models in terms of translation quality, while being more parallelizable and requiring less training time. For example, on the WMT 2014 English-to-German translation task, the Transformer achieves a BLEU score of 28.4, improving over the existing best results by over 2 BLEU. On the WMT 2014 English-to-French translation task, the Transformer establishes a new single-model state-of-the-art BLEU score of 41.8, achieved after training for only 3.5 days on eight GPUs.\\n\\nThe effectiveness of the Transformer is attributed to its ability to capture global dependencies through self-attention mechanisms and its parallelizable nature. The use of multi-head attention allows the model to jointly attend to information from different representation subspaces, enhancing its performance.\\n\\nOverall, the paper presents a novel and innovative model architecture, the Transformer, which relies solely on attention mechanisms. It demonstrates superior performance in machine translation tasks and showcases the advantages of parallelizability and reduced training time. The empirical analysis and experimental techniques employed provide strong evidence for the efficacy of the model.\\n\\nIn conclusion, the Transformer model introduced in this paper offers a groundbreaking approach to sequence transduction tasks by leveraging attention mechanisms. Its ability to capture global dependencies and attend to different representation subspaces enables superior performance in machine translation tasks. The Transformer outperforms existing models in terms of translation quality, parallelizability, and training time. Future research directions include applying attention-based models to other tasks and exploring local attention mechanisms for handling large inputs and outputs.\\n\\nThank you for joining our discussion on the paper \"Attention Is All You Need\". If you have any questions or comments, please feel free to share them.'}}"
      ]
     },
     "execution_count": 27,
     "metadata": {},
     "output_type": "execute_result"
    }
   ],
   "source": [
    "eval(broadcast_response.text)"
   ]
  },
  {
   "cell_type": "code",
   "execution_count": 28,
   "metadata": {},
   "outputs": [
    {
     "name": "stdout",
     "output_type": "stream",
     "text": [
      "Broadcast script has been saved in d:\\git\\MMAPIS\\res\\1706_03762\\broadcast_script.md\n"
     ]
    }
   ],
   "source": [
    "broadcast_script_content = eval(broadcast_response.text)[\"message\"][\"broadcast_script\"]\n",
    "with open(Path(raw_text_path).with_name(\"broadcast_script.md\"),\"w\") as f:\n",
    "    f.write(broadcast_script_content)\n",
    "    print(f\"Broadcast script has been saved in {Path(raw_text_path).with_name('broadcast_script.md')}\")\n",
    "    "
   ]
  },
  {
   "cell_type": "code",
   "execution_count": 29,
   "metadata": {},
   "outputs": [
    {
     "data": {
      "text/plain": [
       "<Response [200]>"
      ]
     },
     "execution_count": 29,
     "metadata": {},
     "output_type": "execute_result"
    }
   ],
   "source": [
    "tts_url = url + \"/tts/\"\n",
    "\n",
    "params = {\n",
    "    \"text\":broadcast_script_content,\n",
    "    \"tts_api_key\":TTS_CONFIG[\"api_key\"],\n",
    "    \"tts_base_url\":TTS_CONFIG[\"base_url\"],\n",
    "    \"app_secret\":TTS_CONFIG[\"app_secret\"],\n",
    "}\n",
    "\n",
    "tts_response = requests.post(tts_url,json=params)\n",
    "tts_response"
   ]
  },
  {
   "cell_type": "code",
   "execution_count": 30,
   "metadata": {},
   "outputs": [
    {
     "data": {
      "text/plain": [
       "{'status': 'success',\n",
       " 'message': {'broadcast_script': 'Welcome to our discussion, today we will introduce a paper titled \"Attention Is All You Need\", with primary authors including Ashish Vaswani, Noam Shazeer, Niki Parmar, Jakob Uszkoreit, Llion Jones, Aidan N. Gomez, Lukasz Kaiser, and Illia Polosukhin. The paper presents a novel network architecture called the Transformer for sequence transduction tasks. Unlike traditional models that rely on recurrent or convolutional neural networks, the Transformer is based solely on attention mechanisms.\\n\\nThe Transformer model consists of an encoder and a decoder, both composed of stacked layers. The encoder maps input sequences to continuous representations, while the decoder generates output sequences based on the encoder\\'s representations. The attention mechanism used in the Transformer is called Scaled Dot-Product Attention, which computes weights on values using dot products of queries and keys. The model also incorporates Multi-Head Attention, allowing it to attend to different representation subspaces simultaneously. Position-wise feed-forward networks are applied to each layer for further processing.\\n\\nThe core research model used in the paper is the Transformer, which replaces recurrent or convolutional neural networks with self-attention mechanisms. The encoder and decoder stacks consist of multiple identical layers, with each layer containing two sub-layers: a multi-head self-attention mechanism and a position-wise fully connected feed-forward network. Residual connections and layer normalization are employed to facilitate information flow and alleviate vanishing gradient problems.\\n\\nThe attention mechanism used in the Transformer is Scaled Dot-Product Attention, which computes the dot products of queries and keys, scales them by $\\\\frac{1}{\\\\sqrt{d_k}}$, applies a softmax function to obtain weights, and computes a weighted sum of values. This attention function is performed on a set of queries, keys, and values simultaneously, allowing for efficient computation.\\n\\nTo enhance the model\\'s ability to attend to different representation subspaces, the Transformer employs Multi-Head Attention. Instead of performing a single attention function, the queries, keys, and values are linearly projected multiple times with different learned linear projections. The attention function is then applied in parallel to these projected versions, and the outputs are concatenated and projected again to obtain the final values.\\n\\nIn addition to attention sub-layers, each layer in the encoder and decoder contains a position-wise feed-forward network. This network consists of two linear transformations with a ReLU activation in between. It operates on each position separately and identically, providing another mechanism for capturing dependencies.\\n\\nThe empirical analysis conducted in the paper demonstrates the efficacy of the Transformer model. Experimental results on machine translation tasks show that the Transformer outperforms existing models in terms of translation quality, while being more parallelizable and requiring less training time. For example, on the WMT 2014 English-to-German translation task, the Transformer achieves a BLEU score of 28.4, improving over the existing best results by over 2 BLEU. On the WMT 2014 English-to-French translation task, the Transformer establishes a new single-model state-of-the-art BLEU score of 41.8, achieved after training for only 3.5 days on eight GPUs.\\n\\nThe effectiveness of the Transformer is attributed to its ability to capture global dependencies through self-attention mechanisms and its parallelizable nature. The use of multi-head attention allows the model to jointly attend to information from different representation subspaces, enhancing its performance.\\n\\nOverall, the paper presents a novel and innovative model architecture, the Transformer, which relies solely on attention mechanisms. It demonstrates superior performance in machine translation tasks and showcases the advantages of parallelizability and reduced training time. The empirical analysis and experimental techniques employed provide strong evidence for the efficacy of the model.\\n\\nIn conclusion, the Transformer model introduced in this paper offers a groundbreaking approach to sequence transduction tasks by leveraging attention mechanisms. Its ability to capture global dependencies and attend to different representation subspaces enables superior performance in machine translation tasks. The Transformer outperforms existing models in terms of translation quality, parallelizability, and training time. Future research directions include applying attention-based models to other tasks and exploring local attention mechanisms for handling large inputs and outputs.\\n\\nThank you for joining our discussion on the paper \"Attention Is All You Need\". If you have any questions or comments, please feel free to share them.'}}"
      ]
     },
     "execution_count": 30,
     "metadata": {},
     "output_type": "execute_result"
    }
   ],
   "source": [
    "eval(broadcast_response.text)"
   ]
  },
  {
   "cell_type": "code",
   "execution_count": 31,
   "metadata": {},
   "outputs": [
    {
     "name": "stdout",
     "output_type": "stream",
     "text": [
      "File saved at d:\\git\\MMAPIS\\res\\1706_03762\\1708359477993.mp3\n"
     ]
    }
   ],
   "source": [
    "import time\n",
    "save_dir = os.path.dirname(transformer_path)\n",
    "bytes_data = tts_response.content\n",
    "millis = int(round(time.time() * 1000))\n",
    "if not os.path.exists(save_dir):\n",
    "    os.makedirs(save_dir)\n",
    "file_path = os.path.join(save_dir, str(millis) + \".mp3\")\n",
    "with open(file_path, 'wb') as fo:\n",
    "    fo.write(bytes_data)\n",
    "print(f\"File saved at {file_path}\")"
   ]
  }
 ],
 "metadata": {
  "kernelspec": {
   "display_name": "pytorch",
   "language": "python",
   "name": "python3"
  },
  "language_info": {
   "codemirror_mode": {
    "name": "ipython",
    "version": 3
   },
   "file_extension": ".py",
   "mimetype": "text/x-python",
   "name": "python",
   "nbconvert_exporter": "python",
   "pygments_lexer": "ipython3",
   "version": "3.11.5"
  }
 },
 "nbformat": 4,
 "nbformat_minor": 2
}
